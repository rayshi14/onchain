{
 "cells": [
  {
   "cell_type": "code",
   "execution_count": 1,
   "id": "a24c783a",
   "metadata": {},
   "outputs": [],
   "source": [
    "import asyncio\n",
    "import websockets\n",
    "import json\n",
    "import time\n",
    "\n",
    "import sys\n",
    "import pandas as pd\n",
    "import requests\n",
    "from web3 import Web3\n",
    "\n",
    "import libs.common.utils as utils\n",
    "import libs.common.payload as payload\n",
    "import config.config as cfg"
   ]
  },
  {
   "cell_type": "code",
   "execution_count": 2,
   "id": "d2fb507e",
   "metadata": {},
   "outputs": [],
   "source": [
    "func_calls = []"
   ]
  },
  {
   "cell_type": "code",
   "execution_count": 4,
   "id": "460673cd",
   "metadata": {},
   "outputs": [],
   "source": [
    "async def process_message(block_info):\n",
    "    val = payload.eth_logs_by_block_payload(0, block_info[\"number\"], block_info[\"number\"])\n",
    "    resp = requests.post(cfg.config[\"http_url\"], json=val)\n",
    "    \n",
    "    df_logs = pd.DataFrame(resp.json()[\"result\"])\n",
    "    df_logs[\"timestamp\"] = block_info[\"timestamp\"]\n",
    "    log_sig = \"Transfer(index_topic_1 address from, index_topic_2 address to, uint256 value)\"\n",
    "    log_hash, log_name, log_topics, log_data = utils.parse_log_signature(log_sig)\n",
    "    df_logs = utils.parse_log_data(df_logs.loc[df_logs[\"topics\"].str[0] == log_hash].copy(), log_topics, log_data, log_name = log_name)\n",
    "    \n",
    "    print(len(resp.json()[\"result\"]), df_logs.shape[0])"
   ]
  },
  {
   "cell_type": "code",
   "execution_count": 9,
   "id": "3c8b7fe4",
   "metadata": {},
   "outputs": [],
   "source": [
    "async def message():\n",
    "    async with websockets.connect(cfg.config[\"ws_url\"]) as ws:\n",
    "        sub_newheads = { \"id\":1, \"jsonrpc\":\"2.0\", \"method\":\"eth_subscribe\", \"params\":[\"newHeads\"] }\n",
    "        await ws.send(json.dumps(sub_newheads))\n",
    "        sub_res = await ws.recv()\n",
    "        print(json.loads(sub_res))\n",
    "        while True:\n",
    "            message = await asyncio.wait_for(ws.recv(), timeout=60)\n",
    "            block_info = json.loads(message)[\"params\"][\"result\"]\n",
    "            start = time.time()\n",
    "            await process_message(block_info)\n",
    "            end = time.time()\n",
    "            print(end-start)"
   ]
  },
  {
   "cell_type": "code",
   "execution_count": null,
   "id": "28b8291a",
   "metadata": {},
   "outputs": [
    {
     "name": "stdout",
     "output_type": "stream",
     "text": [
      "{'jsonrpc': '2.0', 'id': 1, 'result': '0x2e360b65a8103f57f7be85a03d909c27'}\n",
      "287 131\n",
      "1.5188450813293457\n",
      "354 138\n",
      "1.3842298984527588\n"
     ]
    }
   ],
   "source": [
    "import nest_asyncio\n",
    "nest_asyncio.apply()\n",
    "\n",
    "loop = asyncio.get_event_loop()\n",
    "while True:\n",
    "    loop.run_until_complete(message())"
   ]
  },
  {
   "cell_type": "code",
   "execution_count": null,
   "id": "6964e1a4",
   "metadata": {},
   "outputs": [],
   "source": []
  }
 ],
 "metadata": {
  "kernelspec": {
   "display_name": "Python 3 (ipykernel)",
   "language": "python",
   "name": "python3"
  },
  "language_info": {
   "codemirror_mode": {
    "name": "ipython",
    "version": 3
   },
   "file_extension": ".py",
   "mimetype": "text/x-python",
   "name": "python",
   "nbconvert_exporter": "python",
   "pygments_lexer": "ipython3",
   "version": "3.9.13"
  }
 },
 "nbformat": 4,
 "nbformat_minor": 5
}
