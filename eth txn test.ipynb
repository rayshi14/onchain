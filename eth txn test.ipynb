{
 "cells": [
  {
   "cell_type": "code",
   "execution_count": 1,
   "id": "82d193bd-3682-4aa6-bc2e-4bd9b89886c8",
   "metadata": {},
   "outputs": [],
   "source": [
    "import requests\n",
    "from web3 import Web3\n",
    "import pandas as pd\n",
    "import sys\n",
    "sys.path.append(\"./chainklik\")\n",
    "\n",
    "import libs.common.utils as utils\n",
    "import libs.aave.api as aave_api\n",
    "import libs.common.payload as payload\n",
    "import config.config as cfg"
   ]
  },
  {
   "cell_type": "code",
   "execution_count": 2,
   "id": "a43378ce-83f5-4848-ae1f-ff5bb4a5dddb",
   "metadata": {},
   "outputs": [],
   "source": [
    "# Connect to an Ethereum node\n",
    "w3 = Web3(Web3.HTTPProvider(cfg.config[\"eth_sepolia_http_url\"]))\n",
    "\n",
    "# Set sender and recipient addresses\n",
    "sender_address = '0x5bA4D4264Bf9A8C3aaF7e1fea6f83f50643A3Fd7'\n",
    "recipient_address = '0xaf6667a2F847beeca6a6604126Dc28344518840b'\n",
    "\n",
    "# Set private key for the sender's account. \n",
    "private_key = '1dab201501e8b882ca3413edcdfed263e4834cd8ea4c9586aca7fb699c51d681'"
   ]
  },
  {
   "cell_type": "code",
   "execution_count": 9,
   "id": "61723750-2962-4ff7-ba02-a4b5b8651344",
   "metadata": {},
   "outputs": [
    {
     "name": "stdout",
     "output_type": "stream",
     "text": [
      "The balance of 0x5bA4D4264Bf9A8C3aaF7e1fea6f83f50643A3Fd7 is: 0.489531614690461 ETH\n",
      "The balance of 0xaf6667a2F847beeca6a6604126Dc28344518840b is: 0.01 ETH\n"
     ]
    }
   ],
   "source": [
    "balance_sender = w3.from_wei(w3.eth.get_balance(sender_address), 'ether')\n",
    "balance_recipient = w3.from_wei(w3.eth.get_balance(recipient_address), 'ether')\n",
    "\n",
    "print(f'The balance of { sender_address } is: { balance_sender } ETH')\n",
    "print(f'The balance of { recipient_address } is: { balance_recipient } ETH')"
   ]
  },
  {
   "cell_type": "code",
   "execution_count": 8,
   "id": "aca503ba-90a1-427f-ba7f-59c6135a4598",
   "metadata": {},
   "outputs": [
    {
     "name": "stdout",
     "output_type": "stream",
     "text": [
      "Transaction successful!\n",
      "Transaction hash: 0xa86796e7a8d2654a587ea9b1fa40b82265b0b5bef4100de68b09938fc7bd72ec\n",
      "Explorer link: https://sepolia.etherscan.io/tx/0xa86796e7a8d2654a587ea9b1fa40b82265b0b5bef4100de68b09938fc7bd72ec\n",
      "The balance of 0x5bA4D4264Bf9A8C3aaF7e1fea6f83f50643A3Fd7 is: 0.489531614690461 ETH\n",
      "The balance of 0xaf6667a2F847beeca6a6604126Dc28344518840b is: 0.01 ETH\n"
     ]
    }
   ],
   "source": [
    "transaction = w3.eth.account.sign_transaction(transaction_params, private_key)\n",
    "\n",
    "# Send the transaction\n",
    "transaction_hash = w3.eth.send_raw_transaction(transaction.rawTransaction)\n",
    "\n",
    "# Wait for the transaction to be mined\n",
    "transaction_receipt = w3.eth.wait_for_transaction_receipt(transaction_hash)\n",
    "\n",
    "# Check the transaction status\n",
    "if transaction_receipt.status:\n",
    "    print('Transaction successful!')\n",
    "    print('Transaction hash:', transaction_hash.hex())\n",
    "    print(f'Explorer link: https://sepolia.etherscan.io/tx/{transaction_hash.hex()}')\n",
    "else:\n",
    "    print('Transaction failed.')\n",
    "\n",
    "# Fetch balance data after the transaction\n",
    "balance_sender = w3.from_wei(w3.eth.get_balance(sender_address), 'ether')\n",
    "balance_recipient = w3.from_wei(w3.eth.get_balance(recipient_address), 'ether')\n",
    "\n",
    "print(f'The balance of { sender_address } is: { balance_sender } ETH')\n",
    "print(f'The balance of { recipient_address } is: { balance_recipient } ETH')"
   ]
  },
  {
   "cell_type": "code",
   "execution_count": null,
   "id": "0f215dae-e9f8-4d00-8441-59d7f4cd15c0",
   "metadata": {},
   "outputs": [],
   "source": [
    "class txNode:\n",
    "    def __init__(self, wallet, to, amount, finality = 2, gas = 21000):\n",
    "        self.wallet = wallet\n",
    "        self.to = to\n",
    "        self.amount = amount\n",
    "        self.finality = finality\n",
    "        self.gas = gas\n",
    "        self.status = \"new\"\n",
    "    \n",
    "    def run(ctx):\n",
    "        if self.status == \"new\":\n",
    "            latest_block = w3.eth.get_block(\"latest\")\n",
    "            base_fee_per_gas = latest_block.baseFeePerGas   # Base fee in the latest block (in wei)\n",
    "            max_priority_fee_per_gas = w3.to_wei(1, 'gwei') # Priority fee to include the transaction in the block\n",
    "            max_fee_per_gas = (5 * base_fee_per_gas) + max_priority_fee_per_gas # Maximum amount you’re willing to pay \n",
    "            \n",
    "            transaction_params = {\n",
    "                'from': wallet,\n",
    "                'to': to,\n",
    "                'value': w3.to_wei(amount, 'ether'),\n",
    "                'nonce': w3.eth.get_transaction_count(wallet),\n",
    "                'gas': gas, \n",
    "                'maxFeePerGas': max_fee_per_gas, # Maximum amount you’re willing to pay \n",
    "                'maxPriorityFeePerGas': max_priority_fee_per_gas, # Priority fee to include the transaction in the block\n",
    "                'chainId': 11155111 # ChainId of Sepolia Testnet\n",
    "            }\n",
    "        \n",
    "            transaction = w3.eth.account.sign_transaction(transaction_params, private_key)\n",
    "            transaction_hash = w3.eth.send_raw_transaction(transaction.rawTransaction)\n",
    "            transaction_receipt = w3.eth.wait_for_transaction_receipt(transaction_hash)\n",
    "        \n",
    "            if transaction_receipt.status:\n",
    "                print('Transaction successful!')\n",
    "                print('Transaction hash:', transaction_hash.hex())\n",
    "                print(f'Explorer link: https://sepolia.etherscan.io/tx/{transaction_hash.hex()}')\n",
    "                self.txBlock = transaction_receipt[\"blockNumber\"]\n",
    "                self.status = \"unfinalized\"\n",
    "            else:\n",
    "                print('Transaction failed.')\n",
    "                self.status = \"failed\"\n",
    "        elif self.status == \"unfinalized\" and ctx.blockNumber - self.txBlock >= self.finality:\n",
    "            self.status = \"finalized\"\n",
    "            self.active = True\n",
    "        elif self.status == \"finalized\":\n",
    "            self.active = False"
   ]
  },
  {
   "cell_type": "code",
   "execution_count": null,
   "id": "df809eaa-c3fe-4796-933a-92509bfdb30f",
   "metadata": {},
   "outputs": [],
   "source": [
    "class addNode:\n",
    "    def __init__(self, in1, in2):\n",
    "        self.in1 = in1\n",
    "        self.in2 = in2\n",
    "\n",
    "    "
   ]
  },
  {
   "cell_type": "code",
   "execution_count": 12,
   "id": "63b5df52-13a3-4b95-b4da-dc0be4ce6739",
   "metadata": {},
   "outputs": [
    {
     "data": {
      "text/plain": [
       "5006376"
      ]
     },
     "execution_count": 12,
     "metadata": {},
     "output_type": "execute_result"
    }
   ],
   "source": [
    "# transactions\n",
    "# function calls - read\n",
    "# function calls - write"
   ]
  },
  {
   "cell_type": "code",
   "execution_count": 13,
   "id": "bbee4134-b0eb-442e-96dc-cbc0a65867e4",
   "metadata": {},
   "outputs": [],
   "source": [
    "# 1. transaction path\n",
    "# send one transaction and wait for finality\n",
    "# trigger second transaction\n",
    "# timer -> txn 1 -> finality -> txn 2"
   ]
  },
  {
   "cell_type": "code",
   "execution_count": 14,
   "id": "fbdd98d0-3399-4c74-8f7c-5e3810c2ff5c",
   "metadata": {},
   "outputs": [],
   "source": [
    "# 2. aave collateral auto management\n",
    "# listen to healthfactor on a regular interval\n",
    "# when healthfactor drops below a level, post collateral\n",
    "# timer -> healthfactor (interval, every block) -> condition filter -> txn (deposit)"
   ]
  },
  {
   "cell_type": "code",
   "execution_count": 15,
   "id": "f73198d4-f0a1-45d8-9d9e-29d89997ac45",
   "metadata": {},
   "outputs": [],
   "source": [
    "# 3. curve trades price dependent\n",
    "# monitor curve pool price\n",
    "# set a level to trigger the trade\n",
    "# make a swap when level is reached\n",
    "# timer -> curve pool price (interval, every block) -> condition filter -> txn (swap)"
   ]
  },
  {
   "cell_type": "code",
   "execution_count": 16,
   "id": "24f321ba-4bcb-4296-89f4-eb479f872bcd",
   "metadata": {},
   "outputs": [],
   "source": [
    "# 4. cross chain transaction path\n",
    "# send one txn on eth\n",
    "# wait for it to finalize\n",
    "# send second txn on polygon\n",
    "# timer -> txn 1 -> finality -> txn 2"
   ]
  },
  {
   "cell_type": "code",
   "execution_count": 220,
   "id": "3eed20df-dd75-4c51-a1f7-76ee8fba6542",
   "metadata": {},
   "outputs": [],
   "source": [
    "from abc import ABC, abstractmethod\n",
    "\n",
    "class Timer(ABC):\n",
    "    def __init__(self, start, end, frequency):\n",
    "        self.start = start\n",
    "        self.end = end\n",
    "        self.frequency = frequency\n",
    "        assert self.start < self.end\n",
    "\n",
    "    @abstractmethod\n",
    "    def is_active(self, ctx):\n",
    "        pass\n",
    "\n",
    "    @abstractmethod\n",
    "    def is_expired(self, ctx):\n",
    "        pass\n",
    "        \n",
    "class BlockTimer(Timer):\n",
    "    def __init__(self, start, end, frequency):\n",
    "        super().__init__(start, end, frequency)\n",
    "\n",
    "    def is_active(self, ctx):\n",
    "        if ctx[\"block_time\"] - self.start >= 0:\n",
    "            self.start = ((ctx[\"block_time\"] - self.start) // self.frequency + 1) * self.frequency + self.start\n",
    "            return True\n",
    "        else:\n",
    "            return False\n",
    "\n",
    "    def is_expired(self, ctx):\n",
    "        if self.start >= self.end:\n",
    "            return True\n",
    "        return False"
   ]
  },
  {
   "cell_type": "code",
   "execution_count": 221,
   "id": "a1d85e65-54e5-4b78-bf30-c4eebe4fd6c3",
   "metadata": {},
   "outputs": [],
   "source": [
    "class TimerDecorator:\n",
    "    def __init__(self, timer_attr):\n",
    "        self.timer_attr = timer_attr\n",
    "\n",
    "    def __call__(self, func):\n",
    "        def wrapper(*args, **kwargs):\n",
    "            timer = getattr(args[0], self.timer_attr)\n",
    "            ctx = args[1]\n",
    "            if not timer.is_expired(ctx) and timer.is_active(ctx):\n",
    "                func(*args, **kwargs)\n",
    "        return wrapper"
   ]
  },
  {
   "cell_type": "code",
   "execution_count": 222,
   "id": "864a9d18-9bf6-4fa0-a747-2a9b4bd1b022",
   "metadata": {},
   "outputs": [],
   "source": [
    "class Node(ABC):\n",
    "    def __init__(self, deps: dict, params: dict):\n",
    "        self.deps = deps\n",
    "        self.params = params\n",
    "        self.output = None\n",
    "\n",
    "    @abstractmethod\n",
    "    def run(self, ctx: dict, values: dict) -> None:\n",
    "        pass"
   ]
  },
  {
   "cell_type": "code",
   "execution_count": 223,
   "id": "7e50f36b-3464-4a39-a062-21cc8bcf1c66",
   "metadata": {},
   "outputs": [],
   "source": [
    "class DataNode(Node):\n",
    "    def __init__(self, deps: dict, params: dict, timer: Timer = None):\n",
    "        super().__init__(deps, params)\n",
    "        self.timer = timer\n",
    "    \n",
    "    @TimerDecorator(\"timer\")\n",
    "    def run(self, ctx: dict, values: dict) -> None:\n",
    "        self.output = values"
   ]
  },
  {
   "cell_type": "code",
   "execution_count": 224,
   "id": "3a9631c8-c220-4c32-88fa-67fda9935dcc",
   "metadata": {},
   "outputs": [
    {
     "name": "stdout",
     "output_type": "stream",
     "text": [
      "5 {'value': 5} {'start': 15, 'end': 100, 'frequency': 15}\n",
      "7 {'value': 5} {'start': 15, 'end': 100, 'frequency': 15}\n",
      "11 {'value': 5} {'start': 15, 'end': 100, 'frequency': 15}\n",
      "15 {'value': 15} {'start': 30, 'end': 100, 'frequency': 15}\n",
      "35 {'value': 35} {'start': 45, 'end': 100, 'frequency': 15}\n",
      "62 {'value': 62} {'start': 75, 'end': 100, 'frequency': 15}\n",
      "70 {'value': 62} {'start': 75, 'end': 100, 'frequency': 15}\n",
      "80 {'value': 80} {'start': 90, 'end': 100, 'frequency': 15}\n",
      "95 {'value': 95} {'start': 105, 'end': 100, 'frequency': 15}\n",
      "100 {'value': 95} {'start': 105, 'end': 100, 'frequency': 15}\n",
      "105 {'value': 95} {'start': 105, 'end': 100, 'frequency': 15}\n",
      "120 {'value': 95} {'start': 105, 'end': 100, 'frequency': 15}\n"
     ]
    }
   ],
   "source": [
    "bt = BlockTimer(0, 100, 15)\n",
    "node = DataNode({}, {}, bt)\n",
    "for t in [5,7,11,15,35,62,70,80,95,100,105,120]:\n",
    "    ctx = {\n",
    "        \"block_time\" : t\n",
    "    }\n",
    "\n",
    "    values = {\n",
    "        \"value\" : t\n",
    "    }\n",
    "\n",
    "    node.run(ctx, values)\n",
    "    print(t, node.output, bt.__dict__)"
   ]
  },
  {
   "cell_type": "code",
   "execution_count": 225,
   "id": "02a03f54-4bbd-4a62-8292-eed2c4d2a640",
   "metadata": {},
   "outputs": [
    {
     "name": "stdout",
     "output_type": "stream",
     "text": [
      "{'value': 1} {'start': 10, 'end': 10, 'frequency': 10}\n",
      "{'value': 1} {'start': 10, 'end': 10, 'frequency': 10}\n",
      "{'value': 1} {'start': 10, 'end': 10, 'frequency': 10}\n",
      "{'value': 1} {'start': 10, 'end': 10, 'frequency': 10}\n",
      "{'value': 1} {'start': 10, 'end': 10, 'frequency': 10}\n",
      "{'value': 1} {'start': 10, 'end': 10, 'frequency': 10}\n",
      "{'value': 1} {'start': 10, 'end': 10, 'frequency': 10}\n",
      "{'value': 1} {'start': 10, 'end': 10, 'frequency': 10}\n",
      "{'value': 1} {'start': 10, 'end': 10, 'frequency': 10}\n",
      "{'value': 1} {'start': 10, 'end': 10, 'frequency': 10}\n",
      "{'value': 1} {'start': 10, 'end': 10, 'frequency': 10}\n",
      "{'value': 1} {'start': 10, 'end': 10, 'frequency': 10}\n",
      "{'value': 1} {'start': 10, 'end': 10, 'frequency': 10}\n"
     ]
    }
   ],
   "source": [
    "bt = BlockTimer(0, 10, 10)\n",
    "node = DataNode({}, {}, bt)\n",
    "for t in [1,5,7,11,15,35,62,70,80,95,100,105,120]:\n",
    "    ctx = {\n",
    "        \"block_time\" : t\n",
    "    }\n",
    "\n",
    "    values = {\n",
    "        \"value\" : t\n",
    "    }\n",
    "\n",
    "    node.run(ctx, values)\n",
    "    print(node.output, bt.__dict__)"
   ]
  },
  {
   "cell_type": "code",
   "execution_count": null,
   "id": "be31737d-ea48-4510-acfe-0f2bcabff999",
   "metadata": {},
   "outputs": [],
   "source": []
  }
 ],
 "metadata": {
  "kernelspec": {
   "display_name": "Python 3 (ipykernel)",
   "language": "python",
   "name": "python3"
  },
  "language_info": {
   "codemirror_mode": {
    "name": "ipython",
    "version": 3
   },
   "file_extension": ".py",
   "mimetype": "text/x-python",
   "name": "python",
   "nbconvert_exporter": "python",
   "pygments_lexer": "ipython3",
   "version": "3.11.6"
  }
 },
 "nbformat": 4,
 "nbformat_minor": 5
}
