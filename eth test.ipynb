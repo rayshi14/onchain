{
 "cells": [
  {
   "cell_type": "code",
   "execution_count": 1,
   "id": "3f2574c4",
   "metadata": {},
   "outputs": [],
   "source": [
    "import requests\n",
    "from web3 import Web3\n",
    "import pandas as pd\n",
    "\n",
    "import libs.common.utils as utils\n",
    "import libs.aave.api as aave_api\n",
    "import libs.common.payload as payload\n",
    "import config.config as cfg"
   ]
  },
  {
   "cell_type": "code",
   "execution_count": 3,
   "id": "ad9b0d35",
   "metadata": {},
   "outputs": [],
   "source": [
    "w3 = Web3(Web3.HTTPProvider(cfg.config[\"http_url\"]))"
   ]
  },
  {
   "cell_type": "code",
   "execution_count": 4,
   "id": "ed9e66de",
   "metadata": {},
   "outputs": [
    {
     "data": {
      "text/plain": [
       "True"
      ]
     },
     "execution_count": 4,
     "metadata": {},
     "output_type": "execute_result"
    }
   ],
   "source": [
    "utils.get_function_hex(\"balanceOf(address)\") == \"0x70a08231\""
   ]
  },
  {
   "cell_type": "code",
   "execution_count": 5,
   "id": "c27153ae",
   "metadata": {},
   "outputs": [
    {
     "data": {
      "text/plain": [
       "True"
      ]
     },
     "execution_count": 5,
     "metadata": {},
     "output_type": "execute_result"
    }
   ],
   "source": [
    "utils.get_log_topic(\"Transfer(address,address,uint256)\") == \"0xddf252ad1be2c89b69c2b068fc378daa952ba7f163c4a11628f55a4df523b3ef\""
   ]
  },
  {
   "cell_type": "code",
   "execution_count": 7,
   "id": "26cca0ba",
   "metadata": {},
   "outputs": [
    {
     "data": {
      "text/plain": [
       "True"
      ]
     },
     "execution_count": 7,
     "metadata": {},
     "output_type": "execute_result"
    }
   ],
   "source": [
    "val = payload.erc20_decimals_payload(0, \"0x9f8F72aA9304c8B593d555F12eF6589cC3A579A2\")\n",
    "resp = requests.post(cfg.config[\"http_url\"], json=val)\n",
    "dec = int(resp.json()['result'],16)\n",
    "assert dec == 18"
   ]
  },
  {
   "cell_type": "code",
   "execution_count": 8,
   "id": "75d9b0fe",
   "metadata": {},
   "outputs": [
    {
     "data": {
      "text/plain": [
       "True"
      ]
     },
     "execution_count": 8,
     "metadata": {},
     "output_type": "execute_result"
    }
   ],
   "source": [
    "val = payload.eth_block_payload(0, hex(18471066))\n",
    "resp = requests.post(cfg.config[\"http_url\"], json=val)\n",
    "timestamp = resp.json()['result']['timestamp']\n",
    "assert timestamp == \"0x65412017\""
   ]
  },
  {
   "cell_type": "code",
   "execution_count": 12,
   "id": "8540067a",
   "metadata": {},
   "outputs": [],
   "source": [
    "wallet = \"0x756F45E3FA69347A9A973A725E3C98bC4db0b5a0\"\n",
    "block_number = 0\n",
    "val = payload.eth_balance_payload(0, wallet, hex(block_number))\n",
    "resp = requests.post(cfg.config[\"http_url\"], json=val)\n",
    "assert int(resp.json()['result'],16)/1e18 == 200"
   ]
  },
  {
   "cell_type": "code",
   "execution_count": 13,
   "id": "9943419b",
   "metadata": {},
   "outputs": [],
   "source": [
    "val = payload.eth_logs_by_block_payload(0, hex(18471066), hex(18471066))\n",
    "resp = requests.post(cfg.config[\"http_url\"], json=val)\n",
    "assert len(resp.json()['result']) == 580"
   ]
  },
  {
   "cell_type": "code",
   "execution_count": 14,
   "id": "5619e455",
   "metadata": {},
   "outputs": [],
   "source": [
    "# log is identified by address and topics\n",
    "df_logs = pd.DataFrame(resp.json()['result'])\n",
    "df_logs[\"timestamp\"] = timestamp\n",
    "log_sig = \"Transfer(index_topic_1 address from, index_topic_2 address to, uint256 value)\"\n",
    "log_hash, log_name, log_topics, log_data = utils.parse_log_signature(log_sig)\n",
    "df_logs = utils.parse_log_data(df_logs.loc[df_logs[\"topics\"].str[0] == log_hash].copy(), log_topics, log_data, log_name = log_name)\n",
    "assert df_logs.shape[0] == 385"
   ]
  },
  {
   "cell_type": "code",
   "execution_count": null,
   "id": "9a548c05",
   "metadata": {},
   "outputs": [],
   "source": [
    "val = payload.eth_logs_by_block_address_payload(0, hex(18470000), hex(18471066), \"0x2260FAC5E5542a773Aa44fBCfeDf7C193bc2C599\")\n",
    "resp = requests.post(cfg.config[\"http_url\"], json=val)\n",
    "assert len(resp.json()['result']) == 789"
   ]
  },
  {
   "cell_type": "code",
   "execution_count": null,
   "id": "aa4739be",
   "metadata": {},
   "outputs": [],
   "source": []
  }
 ],
 "metadata": {
  "kernelspec": {
   "display_name": "Python 3 (ipykernel)",
   "language": "python",
   "name": "python3"
  },
  "language_info": {
   "codemirror_mode": {
    "name": "ipython",
    "version": 3
   },
   "file_extension": ".py",
   "mimetype": "text/x-python",
   "name": "python",
   "nbconvert_exporter": "python",
   "pygments_lexer": "ipython3",
   "version": "3.9.13"
  }
 },
 "nbformat": 4,
 "nbformat_minor": 5
}
