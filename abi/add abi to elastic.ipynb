{
 "cells": [
  {
   "cell_type": "code",
   "execution_count": 1,
   "id": "5593bbfc",
   "metadata": {},
   "outputs": [],
   "source": [
    "import asyncio\n",
    "import json\n",
    "from datetime import datetime\n",
    "import requests\n",
    "import hashlib\n",
    "from elasticsearch import Elasticsearch\n",
    "\n",
    "import requests\n",
    "import web3\n",
    "import pandas as pd\n",
    "\n",
    "import sys\n",
    "sys.path.append(\"..\")\n",
    "\n",
    "import libs.common.utils as utils\n",
    "import libs.aave.api as aave_api\n",
    "import libs.common.payload as payload\n",
    "import libs.common.etherscan as etherscan\n",
    "import eth_abi\n",
    "import config.config as cfg\n",
    "\n",
    "import warnings\n",
    "warnings.filterwarnings('ignore')"
   ]
  },
  {
   "cell_type": "code",
   "execution_count": 2,
   "id": "7092740c",
   "metadata": {},
   "outputs": [],
   "source": [
    "es = Elasticsearch(\n",
    "    \"https://localhost:9200\",\n",
    "    http_auth=('elastic', 'y=fUp=8ucKL18I5K=1Am'),\n",
    "    verify_certs=False\n",
    ")"
   ]
  },
  {
   "cell_type": "code",
   "execution_count": 3,
   "id": "3bd710d9",
   "metadata": {},
   "outputs": [],
   "source": [
    "def es_create_index(index_name):\n",
    "    try:\n",
    "        es.indices.create(index=index_name)\n",
    "    except Exception as e:\n",
    "        print(e)"
   ]
  },
  {
   "cell_type": "code",
   "execution_count": 4,
   "id": "f9e20522",
   "metadata": {},
   "outputs": [
    {
     "name": "stdout",
     "output_type": "stream",
     "text": [
      "BadRequestError(400, 'resource_already_exists_exception', 'index [abi/G6D1tWcVQ8ichz91d0BLUg] already exists')\n"
     ]
    }
   ],
   "source": [
    "index_name = 'abi'\n",
    "es_create_index(index_name)\n",
    "# es.indices.delete(index=index_name, ignore=[400, 404])"
   ]
  },
  {
   "cell_type": "code",
   "execution_count": 5,
   "id": "70f2d165",
   "metadata": {},
   "outputs": [],
   "source": [
    "# use aave v2 as an example\n",
    "ws = web3.Web3(web3.Web3.HTTPProvider(cfg.config[\"http_url\"]))"
   ]
  },
  {
   "cell_type": "code",
   "execution_count": 6,
   "id": "a4ab3393",
   "metadata": {},
   "outputs": [],
   "source": [
    "def doc_id(contract_addr, abi):\n",
    "    return hashlib.md5('{}/{}'.format(contract_addr,str(abi)).encode()).hexdigest()"
   ]
  },
  {
   "cell_type": "code",
   "execution_count": 7,
   "id": "d01af034",
   "metadata": {},
   "outputs": [],
   "source": [
    "def add_abi(contract_addr, impl_addr, contract_name, author = \"rshi\"):\n",
    "    # if contract addr is different from impl addr\n",
    "    pool_contract = etherscan.get_contract(contract_addr,impl_addr)\n",
    "    # save contract abi\n",
    "    doc = {\n",
    "        'author': 'rshi',\n",
    "        'timestamp': datetime.now(),\n",
    "        'id' : doc_id(contract_addr, pool_contract.abi),\n",
    "        'address' : contract_addr,\n",
    "        'contract' : contract_name,\n",
    "        'type' : \"contract\",\n",
    "        'name' : contract_name,\n",
    "        'abi': pool_contract.abi\n",
    "    }\n",
    "    resp = es.index(index='abi', id=doc['id'], document=doc)\n",
    "\n",
    "    # save contract function and event abi\n",
    "    for abi in pool_contract.abi:\n",
    "        if abi[\"type\"] != \"constructor\":\n",
    "            doc = {\n",
    "                'author': 'rshi',\n",
    "                'timestamp': datetime.now(),\n",
    "                'id' : doc_id(contract_addr, abi),\n",
    "                'address' : contract_addr,\n",
    "                'contract' : contract_name,\n",
    "                'type' : abi[\"type\"],\n",
    "                'name' : abi[\"name\"],\n",
    "                'abi': abi\n",
    "            }\n",
    "            resp = es.index(index='abi', id=doc['id'], document=doc)"
   ]
  },
  {
   "cell_type": "code",
   "execution_count": 8,
   "id": "6596ea21",
   "metadata": {},
   "outputs": [],
   "source": [
    "contract_addr = \"0xbEbc44782C7dB0a1A60Cb6fe97d0b483032FF1C7\"\n",
    "impl_addr = contract_addr\n",
    "contract_name = \"Curve.fi\"\n",
    "add_abi(contract_addr, impl_addr, contract_name)"
   ]
  },
  {
   "cell_type": "code",
   "execution_count": 9,
   "id": "e86322a0",
   "metadata": {},
   "outputs": [],
   "source": [
    "contract_addr = \"0x7d2768dE32b0b80b7a3454c06BdAc94A69DDc7A9\"\n",
    "impl_addr = \"0x085E34722e04567Df9E6d2c32e82fd74f3342e79\"\n",
    "contract_name = \"Aave v2\"\n",
    "add_abi(contract_addr, impl_addr, contract_name)"
   ]
  }
 ],
 "metadata": {
  "kernelspec": {
   "display_name": "Python 3 (ipykernel)",
   "language": "python",
   "name": "python3"
  },
  "language_info": {
   "codemirror_mode": {
    "name": "ipython",
    "version": 3
   },
   "file_extension": ".py",
   "mimetype": "text/x-python",
   "name": "python",
   "nbconvert_exporter": "python",
   "pygments_lexer": "ipython3",
   "version": "3.9.13"
  }
 },
 "nbformat": 4,
 "nbformat_minor": 5
}
