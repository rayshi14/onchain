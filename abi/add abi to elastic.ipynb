{
 "cells": [
  {
   "cell_type": "code",
   "execution_count": 107,
   "id": "5593bbfc",
   "metadata": {},
   "outputs": [],
   "source": [
    "import asyncio\n",
    "import json\n",
    "from datetime import datetime\n",
    "import requests\n",
    "import hashlib\n",
    "from elasticsearch import Elasticsearch\n",
    "from elasticsearch_dsl import Search, Q\n",
    "\n",
    "import requests\n",
    "import web3\n",
    "import pandas as pd\n",
    "\n",
    "import sys\n",
    "sys.path.append(\"..\")\n",
    "\n",
    "import chainklik.libs.common.utils as utils\n",
    "import chainklik.libs.aave.api as aave_api\n",
    "import chainklik.libs.common.payload as payload\n",
    "import chainklik.libs.common.etherscan as etherscan\n",
    "import eth_abi\n",
    "import chainklik.config.config as cfg\n",
    "\n",
    "import warnings\n",
    "warnings.filterwarnings('ignore')"
   ]
  },
  {
   "cell_type": "code",
   "execution_count": 108,
   "id": "7092740c",
   "metadata": {},
   "outputs": [],
   "source": [
    "es = Elasticsearch(\n",
    "    \"https://localhost:9200\",\n",
    "    http_auth=('elastic', 'y=fUp=8ucKL18I5K=1Am'),\n",
    "    verify_certs=False\n",
    ")"
   ]
  },
  {
   "cell_type": "code",
   "execution_count": 109,
   "id": "3bd710d9",
   "metadata": {},
   "outputs": [],
   "source": [
    "def es_create_index(index_name):\n",
    "    try:\n",
    "        es.indices.create(index=index_name)\n",
    "    except Exception as e:\n",
    "        print(e)"
   ]
  },
  {
   "cell_type": "code",
   "execution_count": 280,
   "id": "f9e20522",
   "metadata": {},
   "outputs": [
    {
     "name": "stdout",
     "output_type": "stream",
     "text": [
      "BadRequestError(400, 'resource_already_exists_exception', 'index [abi/muW0TNbRTdOqpIeZfJBqrA] already exists')\n"
     ]
    },
    {
     "data": {
      "text/plain": [
       "ObjectApiResponse({'acknowledged': True})"
      ]
     },
     "execution_count": 280,
     "metadata": {},
     "output_type": "execute_result"
    }
   ],
   "source": [
    "index_name = 'abi'\n",
    "es_create_index(index_name)\n",
    "es.indices.delete(index=index_name, ignore=[400, 404])"
   ]
  },
  {
   "cell_type": "code",
   "execution_count": 281,
   "id": "c8314d67",
   "metadata": {},
   "outputs": [
    {
     "data": {
      "text/plain": [
       "ObjectApiResponse({'acknowledged': True, 'shards_acknowledged': True, 'index': 'abi'})"
      ]
     },
     "execution_count": 281,
     "metadata": {},
     "output_type": "execute_result"
    }
   ],
   "source": [
    "es.indices.create(\n",
    "    index=index_name,\n",
    "    body={\n",
    "        \"settings\": {\n",
    "            \"number_of_shards\": 1,\n",
    "            \"number_of_replicas\": 0,\n",
    "\n",
    "            \"analysis\": {\n",
    "                \"analyzer\": {\n",
    "                    \"lc_analyzer\": {\n",
    "                        \"tokenizer\": \"lowercase\",\n",
    "                    },\n",
    "                    \"addr_analyzer\" : {\n",
    "                        \"tokenizer\": \"edge_ngram_tokenizer\"\n",
    "                    }\n",
    "                },\n",
    "                \"tokenizer\": {\n",
    "                    \"edge_ngram_tokenizer\": {\n",
    "                        \"type\": \"edge_ngram\",\n",
    "                        \"min_gram\": 2,\n",
    "                        \"max_gram\": 42,\n",
    "                        \"token_chars\": [\"letter\", \"digit\"]\n",
    "                    }\n",
    "                }\n",
    "            }\n",
    "        },\n",
    "        \"mappings\": {\n",
    "            \"properties\": {\n",
    "                \"name\": {\n",
    "                    \"type\": \"text\",\n",
    "                    \"analyzer\": \"lc_analyzer\" \n",
    "                },\n",
    "                \"contract\": {\n",
    "                    \"type\": \"text\",\n",
    "                    \"analyzer\": \"lc_analyzer\"\n",
    "                },\n",
    "                \"type\": {\n",
    "                    \"type\": \"text\",\n",
    "                    \"analyzer\": \"lc_analyzer\"\n",
    "                },\n",
    "                \"address\": {\n",
    "                    \"type\": \"text\",\n",
    "                    \"analyzer\": \"addr_analyzer\"\n",
    "                }\n",
    "            }\n",
    "        }\n",
    "    }\n",
    ")"
   ]
  },
  {
   "cell_type": "code",
   "execution_count": 282,
   "id": "70f2d165",
   "metadata": {},
   "outputs": [],
   "source": [
    "# use aave v2 as an example\n",
    "ws = web3.Web3(web3.Web3.HTTPProvider(cfg.config[\"http_url\"]))"
   ]
  },
  {
   "cell_type": "code",
   "execution_count": 283,
   "id": "a4ab3393",
   "metadata": {},
   "outputs": [],
   "source": [
    "def doc_id(contract_addr, abi):\n",
    "    return hashlib.md5('{}/{}'.format(contract_addr,str(abi)).encode()).hexdigest()"
   ]
  },
  {
   "cell_type": "code",
   "execution_count": 284,
   "id": "d01af034",
   "metadata": {},
   "outputs": [],
   "source": [
    "def add_abi(contract_addr, impl_addr, contract_name, author = \"rshi\"):\n",
    "    # if contract addr is different from impl addr\n",
    "    pool_contract = etherscan.get_contract(contract_addr,impl_addr)\n",
    "    # save contract abi\n",
    "    doc = {\n",
    "        'author': 'rshi',\n",
    "        'timestamp': datetime.now(),\n",
    "        'id' : doc_id(contract_addr, pool_contract.abi),\n",
    "        'address' : contract_addr,\n",
    "        'contract' : contract_name,\n",
    "        'type' : \"contract\",\n",
    "        'name' : contract_name,\n",
    "        'abi': pool_contract.abi\n",
    "    }\n",
    "    resp = es.index(index='abi', id=doc['id'], document=doc)\n",
    "\n",
    "    # save contract function and event abi\n",
    "    for abi in pool_contract.abi:\n",
    "        if abi[\"type\"] != \"constructor\":\n",
    "            doc = {\n",
    "                'author': 'rshi',\n",
    "                'timestamp': datetime.now(),\n",
    "                'id' : doc_id(contract_addr, abi),\n",
    "                'address' : contract_addr,\n",
    "                'contract' : contract_name,\n",
    "                'type' : abi[\"type\"],\n",
    "                'name' : abi[\"name\"],\n",
    "                'abi': abi\n",
    "            }\n",
    "            resp = es.index(index='abi', id=doc['id'], document=doc)"
   ]
  },
  {
   "cell_type": "code",
   "execution_count": 285,
   "id": "6596ea21",
   "metadata": {},
   "outputs": [],
   "source": [
    "contract_addr = \"0xbEbc44782C7dB0a1A60Cb6fe97d0b483032FF1C7\"\n",
    "impl_addr = contract_addr\n",
    "contract_name = \"Curve.fi\"\n",
    "add_abi(contract_addr, impl_addr, contract_name)"
   ]
  },
  {
   "cell_type": "code",
   "execution_count": 286,
   "id": "e86322a0",
   "metadata": {},
   "outputs": [],
   "source": [
    "contract_addr = \"0x7d2768dE32b0b80b7a3454c06BdAc94A69DDc7A9\"\n",
    "impl_addr = \"0x085E34722e04567Df9E6d2c32e82fd74f3342e79\"\n",
    "contract_name = \"Aave v2\"\n",
    "add_abi(contract_addr, impl_addr, contract_name)"
   ]
  },
  {
   "cell_type": "code",
   "execution_count": 295,
   "id": "34739f7e-930e-4591-91e9-6a4b921d9f8c",
   "metadata": {},
   "outputs": [
    {
     "data": {
      "text/plain": [
       "{'_index': 'abi',\n",
       " '_id': '70ca907404f320cd750ff752a9420029',\n",
       " '_score': 30.988321,\n",
       " '_source': {'author': 'rshi',\n",
       "  'timestamp': '2023-12-03T07:13:45.343143',\n",
       "  'id': '70ca907404f320cd750ff752a9420029',\n",
       "  'address': '0x7d2768dE32b0b80b7a3454c06BdAc94A69DDc7A9',\n",
       "  'contract': 'Aave v2',\n",
       "  'type': 'function',\n",
       "  'name': 'FLASHLOAN_PREMIUM_TOTAL',\n",
       "  'abi': {'inputs': [],\n",
       "   'name': 'FLASHLOAN_PREMIUM_TOTAL',\n",
       "   'outputs': [{'internalType': 'uint256', 'name': '', 'type': 'uint256'}],\n",
       "   'stateMutability': 'view',\n",
       "   'type': 'function'}}}"
      ]
     },
     "execution_count": 295,
     "metadata": {},
     "output_type": "execute_result"
    }
   ],
   "source": [
    "s = Search(using=es, index=index_name)\n",
    "# keywords = \"0x7d2768dE32b0b80b7a3454c06BdAc94A69DDc7A9\"\n",
    "# keyword_queries = []\n",
    "    \n",
    "# for keyword in keywords:\n",
    "#     keyword_queries.append(Q(\"multi_match\", query=keyword, fields=[\"_all\"]))\n",
    "\n",
    "# combined_query = Q('bool', should=keyword_queries)\n",
    "# s = s.query(combined_query)\n",
    "\n",
    "# query = Q('bool',\n",
    "#     must=[\n",
    "#         Q('match', address=\"0xbEbc44782C7dB0a1A60Cb6fe97d0b483032FF1C7\"),\n",
    "#         Q('match', type='function'), \n",
    "#         Q('match', name='get_dy')\n",
    "#     ]\n",
    "# )\n",
    "\n",
    "page_size = 10  # Number of results per page\n",
    "page_number = 1  # Page number (starting from 1)\n",
    "\n",
    "# Calculate the starting point (from) based on page size and page number\n",
    "from_index = (page_number - 1) * page_size\n",
    "\n",
    "# Set the pagination parameters in the search query\n",
    "# s = s[from_index:from_index + page_size]\n",
    "\n",
    "query = Q('bool',\n",
    "    should=[\n",
    "        Q('multi_match', query=\"0x7d2768dE32b0b80b7a3454c06BdAc94A69DDc7A9\", fields=[\"address\"]),\n",
    "        Q('multi_match', query=\"function\", fields=[\"name\",\"contract\",\"type\"])\n",
    "    ]\n",
    ")\n",
    "\n",
    "s = s.query(query)\n",
    "\n",
    "response = s.execute()\n",
    "\n",
    "response.to_dict()[\"hits\"][\"hits\"][0]"
   ]
  },
  {
   "cell_type": "code",
   "execution_count": 211,
   "id": "6d137b6c-68ae-4154-bc2f-3afdf7e61095",
   "metadata": {},
   "outputs": [],
   "source": [
    "from elasticsearch.client import IndicesClient\n",
    "\n",
    "indices_client = IndicesClient(es)\n",
    "\n",
    "# Use the _analyze endpoint to test the custom analyzer\n",
    "analysis_results = indices_client.analyze(\n",
    "    index=index_name,\n",
    "    body={\n",
    "        \"analyzer\": \"sd_analyzer\",\n",
    "        \"text\": \"0x7d2768dE32b0b80b7a3454c06BdAc94A69DDc7A9\"\n",
    "    }\n",
    ")"
   ]
  },
  {
   "cell_type": "code",
   "execution_count": 209,
   "id": "6622344a-c076-4d03-98bb-9c994e8e207c",
   "metadata": {},
   "outputs": [
    {
     "data": {
      "text/plain": [
       "ObjectApiResponse({'tokens': [{'token': '0x7d2768dE32b0b80b7a3454c06BdAc94A69DDc7A9', 'start_offset': 0, 'end_offset': 42, 'type': '<ALPHANUM>', 'position': 0}]})"
      ]
     },
     "execution_count": 209,
     "metadata": {},
     "output_type": "execute_result"
    }
   ],
   "source": [
    "analysis_results"
   ]
  }
 ],
 "metadata": {
  "kernelspec": {
   "display_name": "Python 3 (ipykernel)",
   "language": "python",
   "name": "python3"
  },
  "language_info": {
   "codemirror_mode": {
    "name": "ipython",
    "version": 3
   },
   "file_extension": ".py",
   "mimetype": "text/x-python",
   "name": "python",
   "nbconvert_exporter": "python",
   "pygments_lexer": "ipython3",
   "version": "3.11.6"
  }
 },
 "nbformat": 4,
 "nbformat_minor": 5
}
