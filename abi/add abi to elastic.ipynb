{
 "cells": [
  {
   "cell_type": "code",
   "execution_count": 12,
   "id": "19edce8e",
   "metadata": {},
   "outputs": [],
   "source": [
    "import asyncio\n",
    "import json\n",
    "from datetime import datetime\n",
    "import requests\n",
    "import hashlib\n",
    "from elasticsearch import Elasticsearch\n",
    "\n",
    "import requests\n",
    "import web3\n",
    "import pandas as pd\n",
    "\n",
    "import sys\n",
    "sys.path.append(\"..\")\n",
    "\n",
    "import libs.common.utils as utils\n",
    "import libs.aave.api as aave_api\n",
    "import libs.common.payload as payload\n",
    "import libs.common.etherscan as etherscan\n",
    "import eth_abi\n",
    "import config.config as cfg\n",
    "\n",
    "import warnings\n",
    "warnings.filterwarnings('ignore')"
   ]
  },
  {
   "cell_type": "code",
   "execution_count": 3,
   "id": "fa1f7455",
   "metadata": {},
   "outputs": [],
   "source": [
    "es = Elasticsearch(\n",
    "    \"https://localhost:9200\",\n",
    "    http_auth=('elastic', 'y=fUp=8ucKL18I5K=1Am'),\n",
    "    verify_certs=False\n",
    ")"
   ]
  },
  {
   "cell_type": "code",
   "execution_count": 31,
   "id": "c2887581",
   "metadata": {},
   "outputs": [],
   "source": [
    "def es_create_index(index_name):\n",
    "    try:\n",
    "        es.indices.create(index=index_name)\n",
    "    except Exception as e:\n",
    "        print(e)"
   ]
  },
  {
   "cell_type": "code",
   "execution_count": 55,
   "id": "64c04672",
   "metadata": {},
   "outputs": [],
   "source": [
    "index_name = 'abi'\n",
    "es_create_index(index_name)\n",
    "# es.indices.delete(index=index_name, ignore=[400, 404])"
   ]
  },
  {
   "cell_type": "code",
   "execution_count": 33,
   "id": "79a29aa2",
   "metadata": {},
   "outputs": [],
   "source": [
    "# use aave v2 as an example\n",
    "ws = web3.Web3(web3.Web3.HTTPProvider(cfg.config[\"http_url\"]))"
   ]
  },
  {
   "cell_type": "code",
   "execution_count": 52,
   "id": "3afe0892",
   "metadata": {},
   "outputs": [],
   "source": [
    "def doc_id(contract_addr, name, abi):\n",
    "    return hashlib.md5('{}/{}/{}'.format(contract_addr,name,str(abi)).encode()).hexdigest()"
   ]
  },
  {
   "cell_type": "code",
   "execution_count": 53,
   "id": "76c65a70",
   "metadata": {},
   "outputs": [],
   "source": [
    "contract_addr = \"0x7d2768dE32b0b80b7a3454c06BdAc94A69DDc7A9\"\n",
    "impl_addr = \"0x085E34722e04567Df9E6d2c32e82fd74f3342e79\"\n",
    "pool_contract = etherscan.get_contract(contract_addr,impl_addr)\n",
    "\n",
    "contract_name = \"Aave v2\"\n",
    "\n",
    "# save contract abi\n",
    "doc = {\n",
    "    'author': 'rshi',\n",
    "    'timestamp': datetime.now(),\n",
    "    'id' : doc_id(contract_addr, contract_name, pool_contract.abi),\n",
    "    'address' : contract_addr,\n",
    "    'contract' : contract_name,\n",
    "    'type' : \"contract\",\n",
    "    'name' : contract_name,\n",
    "    'abi': pool_contract.abi\n",
    "}\n",
    "resp = es.index(index='abi', id=doc['id'], document=doc)\n",
    "\n",
    "# save contract function and event abi\n",
    "for abi in pool_contract.abi:\n",
    "    doc = {\n",
    "        'author': 'rshi',\n",
    "        'timestamp': datetime.now(),\n",
    "        'id' : doc_id(contract_addr, abi[\"name\"], abi),\n",
    "        'address' : contract_addr,\n",
    "        'contract' : contract_name,\n",
    "        'type' : abi[\"type\"],\n",
    "        'name' : abi[\"name\"],\n",
    "        'abi': abi\n",
    "    }\n",
    "    resp = es.index(index='abi', id=doc['id'], document=doc)"
   ]
  },
  {
   "cell_type": "code",
   "execution_count": 60,
   "id": "966b26a6",
   "metadata": {},
   "outputs": [
    {
     "ename": "KeyError",
     "evalue": "'name'",
     "output_type": "error",
     "traceback": [
      "\u001b[0;31m---------------------------------------------------------------------------\u001b[0m",
      "\u001b[0;31mKeyError\u001b[0m                                  Traceback (most recent call last)",
      "Cell \u001b[0;32mIn [60], line 25\u001b[0m\n\u001b[1;32m     20\u001b[0m \u001b[38;5;66;03m# save contract function and event abi\u001b[39;00m\n\u001b[1;32m     21\u001b[0m \u001b[38;5;28;01mfor\u001b[39;00m abi \u001b[38;5;129;01min\u001b[39;00m pool_contract\u001b[38;5;241m.\u001b[39mabi:\n\u001b[1;32m     22\u001b[0m     doc \u001b[38;5;241m=\u001b[39m {\n\u001b[1;32m     23\u001b[0m         \u001b[38;5;124m'\u001b[39m\u001b[38;5;124mauthor\u001b[39m\u001b[38;5;124m'\u001b[39m: \u001b[38;5;124m'\u001b[39m\u001b[38;5;124mrshi\u001b[39m\u001b[38;5;124m'\u001b[39m,\n\u001b[1;32m     24\u001b[0m         \u001b[38;5;124m'\u001b[39m\u001b[38;5;124mtimestamp\u001b[39m\u001b[38;5;124m'\u001b[39m: datetime\u001b[38;5;241m.\u001b[39mnow(),\n\u001b[0;32m---> 25\u001b[0m         \u001b[38;5;124m'\u001b[39m\u001b[38;5;124mid\u001b[39m\u001b[38;5;124m'\u001b[39m : doc_id(contract_addr, abi[\u001b[38;5;124m\"\u001b[39m\u001b[38;5;124mname\u001b[39m\u001b[38;5;124m\"\u001b[39m], abi),\n\u001b[1;32m     26\u001b[0m         \u001b[38;5;124m'\u001b[39m\u001b[38;5;124maddress\u001b[39m\u001b[38;5;124m'\u001b[39m : contract_addr,\n\u001b[1;32m     27\u001b[0m         \u001b[38;5;124m'\u001b[39m\u001b[38;5;124mcontract\u001b[39m\u001b[38;5;124m'\u001b[39m : contract_name,\n\u001b[1;32m     28\u001b[0m         \u001b[38;5;124m'\u001b[39m\u001b[38;5;124mtype\u001b[39m\u001b[38;5;124m'\u001b[39m : abi[\u001b[38;5;124m\"\u001b[39m\u001b[38;5;124mtype\u001b[39m\u001b[38;5;124m\"\u001b[39m],\n\u001b[1;32m     29\u001b[0m         \u001b[38;5;124m'\u001b[39m\u001b[38;5;124mname\u001b[39m\u001b[38;5;124m'\u001b[39m : abi[\u001b[38;5;124m\"\u001b[39m\u001b[38;5;124mname\u001b[39m\u001b[38;5;124m\"\u001b[39m],\n\u001b[1;32m     30\u001b[0m         \u001b[38;5;124m'\u001b[39m\u001b[38;5;124mabi\u001b[39m\u001b[38;5;124m'\u001b[39m: abi\n\u001b[1;32m     31\u001b[0m     }\n\u001b[1;32m     32\u001b[0m     resp \u001b[38;5;241m=\u001b[39m es\u001b[38;5;241m.\u001b[39mindex(index\u001b[38;5;241m=\u001b[39m\u001b[38;5;124m'\u001b[39m\u001b[38;5;124mabi\u001b[39m\u001b[38;5;124m'\u001b[39m, \u001b[38;5;28mid\u001b[39m\u001b[38;5;241m=\u001b[39mdoc[\u001b[38;5;124m'\u001b[39m\u001b[38;5;124mid\u001b[39m\u001b[38;5;124m'\u001b[39m], document\u001b[38;5;241m=\u001b[39mdoc)\n",
      "\u001b[0;31mKeyError\u001b[0m: 'name'"
     ]
    }
   ],
   "source": [
    "contract_addr = \"0xbEbc44782C7dB0a1A60Cb6fe97d0b483032FF1C7\"\n",
    "impl_addr = \"0xbEbc44782C7dB0a1A60Cb6fe97d0b483032FF1C7\"\n",
    "pool_contract = etherscan.get_contract(contract_addr,impl_addr)\n",
    "\n",
    "contract_name = \"Curve.fi\"\n",
    "\n",
    "# # save contract abi\n",
    "doc = {\n",
    "    'author': 'rshi',\n",
    "    'timestamp': datetime.now(),\n",
    "    'id' : doc_id(contract_addr, contract_name, pool_contract.abi),\n",
    "    'address' : contract_addr,\n",
    "    'contract' : contract_name,\n",
    "    'type' : \"contract\",\n",
    "    'name' : contract_name,\n",
    "    'abi': pool_contract.abi\n",
    "}\n",
    "resp = es.index(index='abi', id=doc['id'], document=doc)\n",
    "\n",
    "# save contract function and event abi\n",
    "for abi in pool_contract.abi:\n",
    "    doc = {\n",
    "        'author': 'rshi',\n",
    "        'timestamp': datetime.now(),\n",
    "        'id' : doc_id(contract_addr, abi[\"name\"], abi),\n",
    "        'address' : contract_addr,\n",
    "        'contract' : contract_name,\n",
    "        'type' : abi[\"type\"],\n",
    "        'name' : abi[\"name\"],\n",
    "        'abi': abi\n",
    "    }\n",
    "    resp = es.index(index='abi', id=doc['id'], document=doc)"
   ]
  },
  {
   "cell_type": "code",
   "execution_count": null,
   "id": "97aad115",
   "metadata": {},
   "outputs": [],
   "source": []
  }
 ],
 "metadata": {
  "kernelspec": {
   "display_name": "Python 3 (ipykernel)",
   "language": "python",
   "name": "python3"
  },
  "language_info": {
   "codemirror_mode": {
    "name": "ipython",
    "version": 3
   },
   "file_extension": ".py",
   "mimetype": "text/x-python",
   "name": "python",
   "nbconvert_exporter": "python",
   "pygments_lexer": "ipython3",
   "version": "3.9.13"
  }
 },
 "nbformat": 4,
 "nbformat_minor": 5
}
