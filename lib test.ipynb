{
 "cells": [
  {
   "cell_type": "code",
   "execution_count": 1,
   "id": "3f2574c4",
   "metadata": {},
   "outputs": [],
   "source": [
    "import requests\n",
    "from web3 import Web3\n",
    "\n",
    "import libs.common.utils as utils\n",
    "import libs.aave.api as aave_api\n",
    "import libs.common.payload as payload"
   ]
  },
  {
   "cell_type": "code",
   "execution_count": 2,
   "id": "5f660cbe",
   "metadata": {},
   "outputs": [],
   "source": [
    "node_url = \"http://localhost:8545\""
   ]
  },
  {
   "cell_type": "code",
   "execution_count": 3,
   "id": "ad9b0d35",
   "metadata": {},
   "outputs": [],
   "source": [
    "w3 = Web3(Web3.HTTPProvider(node_url))"
   ]
  },
  {
   "cell_type": "code",
   "execution_count": 4,
   "id": "ed9e66de",
   "metadata": {},
   "outputs": [
    {
     "data": {
      "text/plain": [
       "'0x70a08231'"
      ]
     },
     "execution_count": 4,
     "metadata": {},
     "output_type": "execute_result"
    }
   ],
   "source": [
    "utils.get_function_hex(\"balanceOf(address)\")"
   ]
  },
  {
   "cell_type": "code",
   "execution_count": 5,
   "id": "05aa6a07",
   "metadata": {},
   "outputs": [],
   "source": [
    "wallet = \"0x756F45E3FA69347A9A973A725E3C98bC4db0b5a0\"\n",
    "block_number = 0\n",
    "token_contract = \"\""
   ]
  },
  {
   "cell_type": "code",
   "execution_count": 6,
   "id": "41873fa1",
   "metadata": {},
   "outputs": [
    {
     "data": {
      "text/plain": [
       "True"
      ]
     },
     "execution_count": 6,
     "metadata": {},
     "output_type": "execute_result"
    }
   ],
   "source": [
    "val = payload.get_eth_balance_payload(0, token_contract, wallet, block_number)\n",
    "resp = requests.post(node_url, json=val)\n",
    "int(resp.json()['result'],16)/1e18 == 200"
   ]
  },
  {
   "cell_type": "code",
   "execution_count": 7,
   "id": "e6b69997",
   "metadata": {},
   "outputs": [],
   "source": [
    "pool = aave_api.PoolV2()"
   ]
  },
  {
   "cell_type": "code",
   "execution_count": 9,
   "id": "44491df8",
   "metadata": {},
   "outputs": [],
   "source": [
    "# pool.get_user_account(\"0x1111567E0954E74f6bA7c4732D534e75B81DC42E\",0)"
   ]
  },
  {
   "cell_type": "code",
   "execution_count": null,
   "id": "53ce087f",
   "metadata": {},
   "outputs": [],
   "source": []
  }
 ],
 "metadata": {
  "kernelspec": {
   "display_name": "Python 3 (ipykernel)",
   "language": "python",
   "name": "python3"
  },
  "language_info": {
   "codemirror_mode": {
    "name": "ipython",
    "version": 3
   },
   "file_extension": ".py",
   "mimetype": "text/x-python",
   "name": "python",
   "nbconvert_exporter": "python",
   "pygments_lexer": "ipython3",
   "version": "3.9.13"
  }
 },
 "nbformat": 4,
 "nbformat_minor": 5
}
