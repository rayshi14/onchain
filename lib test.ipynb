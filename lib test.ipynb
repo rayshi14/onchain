{
 "cells": [
  {
   "cell_type": "code",
   "execution_count": 1,
   "id": "3f2574c4",
   "metadata": {},
   "outputs": [],
   "source": [
    "import requests\n",
    "from web3 import Web3\n",
    "\n",
    "import libs.common.utils as utils\n",
    "import libs.aave.api as aave_api\n",
    "import libs.common.payload as payload"
   ]
  },
  {
   "cell_type": "code",
   "execution_count": 2,
   "id": "5f660cbe",
   "metadata": {},
   "outputs": [],
   "source": [
    "node_url = \"https://stylish-wider-patina.quiknode.pro/274049e810f4dee5f0807cd426196aeafd438838/\""
   ]
  },
  {
   "cell_type": "code",
   "execution_count": 3,
   "id": "ad9b0d35",
   "metadata": {},
   "outputs": [],
   "source": [
    "w3 = Web3(Web3.HTTPProvider(node_url))"
   ]
  },
  {
   "cell_type": "code",
   "execution_count": 4,
   "id": "ed9e66de",
   "metadata": {},
   "outputs": [
    {
     "data": {
      "text/plain": [
       "'0x70a08231'"
      ]
     },
     "execution_count": 4,
     "metadata": {},
     "output_type": "execute_result"
    }
   ],
   "source": [
    "utils.get_function_hex(\"balanceOf(address)\")"
   ]
  },
  {
   "cell_type": "code",
   "execution_count": 5,
   "id": "9a548c05",
   "metadata": {},
   "outputs": [
    {
     "data": {
      "text/plain": [
       "True"
      ]
     },
     "execution_count": 5,
     "metadata": {},
     "output_type": "execute_result"
    }
   ],
   "source": [
    "val = payload.get_eth_block_payload(0, 16000000, False)\n",
    "resp = requests.post(node_url, json=val)\n",
    "int(resp.json()['result']['gasLimit'],16) == 30000000"
   ]
  },
  {
   "cell_type": "code",
   "execution_count": 5,
   "id": "05aa6a07",
   "metadata": {},
   "outputs": [],
   "source": [
    "wallet = \"0x756F45E3FA69347A9A973A725E3C98bC4db0b5a0\"\n",
    "block_number = 0"
   ]
  },
  {
   "cell_type": "code",
   "execution_count": 6,
   "id": "41873fa1",
   "metadata": {},
   "outputs": [
    {
     "data": {
      "text/plain": [
       "True"
      ]
     },
     "execution_count": 6,
     "metadata": {},
     "output_type": "execute_result"
    }
   ],
   "source": [
    "val = payload.get_eth_balance_payload(0, wallet, block_number)\n",
    "resp = requests.post(node_url, json=val)\n",
    "int(resp.json()['result'],16)/1e18 == 200"
   ]
  },
  {
   "cell_type": "code",
   "execution_count": 4,
   "id": "e6b69997",
   "metadata": {},
   "outputs": [],
   "source": [
    "pool = aave_api.PoolV2()"
   ]
  },
  {
   "cell_type": "code",
   "execution_count": 9,
   "id": "44491df8",
   "metadata": {},
   "outputs": [
    {
     "data": {
      "text/plain": [
       "[30621293693004131035902,\n",
       " 23900550978949558890180,\n",
       " 1362016317778849214439,\n",
       " 8600,\n",
       " 8250,\n",
       " 1101828681655813394]"
      ]
     },
     "execution_count": 9,
     "metadata": {},
     "output_type": "execute_result"
    }
   ],
   "source": [
    "# totalCollateralETH uint256, totalDebtETH uint256, availableBorrowsETH uint256, currentLiquidationThreshold uint256, ltv uint256, healthFactor uint256\n",
    "pool.get_user_account(\"0x1111567E0954E74f6bA7c4732D534e75B81DC42E\",18000000)"
   ]
  },
  {
   "cell_type": "code",
   "execution_count": 5,
   "id": "53ce087f",
   "metadata": {},
   "outputs": [],
   "source": [
    "# ReserveConfigurationMap configuration;\n",
    "#     //the liquidity index. Expressed in ray\n",
    "#     uint128 liquidityIndex;\n",
    "#     //variable borrow index. Expressed in ray\n",
    "#     uint128 variableBorrowIndex;\n",
    "#     //the current supply rate. Expressed in ray\n",
    "#     uint128 currentLiquidityRate;\n",
    "#     //the current variable borrow rate. Expressed in ray\n",
    "#     uint128 currentVariableBorrowRate;\n",
    "#     //the current stable borrow rate. Expressed in ray\n",
    "#     uint128 currentStableBorrowRate;\n",
    "#     uint40 lastUpdateTimestamp;\n",
    "#     //tokens addresses\n",
    "#     address aTokenAddress;\n",
    "#     address stableDebtTokenAddress;\n",
    "#     address variableDebtTokenAddress;\n",
    "#     //address of the interest rate strategy\n",
    "#     address interestRateStrategyAddress;\n",
    "#     //the id of the reserve. Represents the position in the list of the active reserves\n",
    "#     uint8 id;\n",
    "reserve_data = pool.get_reserve_data(\"0x2260FAC5E5542a773Aa44fBCfeDf7C193bc2C599\",18000000)"
   ]
  },
  {
   "cell_type": "code",
   "execution_count": 7,
   "id": "e25dc771",
   "metadata": {},
   "outputs": [
    {
     "data": {
      "text/plain": [
       "0.009517529643936441"
      ]
     },
     "execution_count": 7,
     "metadata": {},
     "output_type": "execute_result"
    }
   ],
   "source": [
    "9517529643936440369203909/1e27"
   ]
  },
  {
   "cell_type": "code",
   "execution_count": 9,
   "id": "b8c05436",
   "metadata": {},
   "outputs": [
    {
     "data": {
      "text/plain": [
       "{'reserve_config': ReserveConfig(ltv=7200, liqThreshold=8200, liqBonus=10500, decimals=8, active=1, frozen=0, borrowEnabled=1, stableRateEnabled=1, reserved=0, reserveFactor=2500),\n",
       " 'liquidity_index': 1003865029656007004892748967,\n",
       " 'variable_borrow_index': 1024261053979702801085644764,\n",
       " 'current_liquidity_rate': 1561885583452924704654084,\n",
       " 'current_variable_borrow_rate': 9517529643936440369203909,\n",
       " 'current_stable_borrow_rate': 53793824109841100923009772,\n",
       " 'last_update_timestamp': 1693063523,\n",
       " 'aToken_address': '0x9ff58f4fFB29fA2266Ab25e75e2A8b3503311656',\n",
       " 'stable_debt_token_address': '0x51B039b9AFE64B78758f8Ef091211b5387eA717c',\n",
       " 'variable_debt_token_address': '0x9c39809Dec7F95F5e0713634a4D0701329B3b4d2',\n",
       " 'interest_rate_strategy_address': '0x32f3A6134590fc2d9440663d35a2F0a6265F04c4',\n",
       " 'id': 1}"
      ]
     },
     "execution_count": 9,
     "metadata": {},
     "output_type": "execute_result"
    }
   ],
   "source": [
    "reserve_data.__dict__"
   ]
  },
  {
   "cell_type": "code",
   "execution_count": 77,
   "id": "32abf83a",
   "metadata": {},
   "outputs": [],
   "source": [
    "config_bits = [0,16,32,48,56,57,58,59,60,64,80]"
   ]
  },
  {
   "cell_type": "code",
   "execution_count": 81,
   "id": "ea64b233",
   "metadata": {},
   "outputs": [
    {
     "data": {
      "text/plain": [
       "ReserveConfig(ltv=7200, liqThreshold=8200, liqBonus=10500, decimals=8, active=1, frozen=0, borrowEnabled=1, stableRateEnabled=1, reserved=0, reserveFactor=2500)"
      ]
     },
     "execution_count": 81,
     "metadata": {},
     "output_type": "execute_result"
    }
   ],
   "source": []
  },
  {
   "cell_type": "code",
   "execution_count": null,
   "id": "f7756c0c",
   "metadata": {},
   "outputs": [],
   "source": []
  },
  {
   "cell_type": "code",
   "execution_count": null,
   "id": "16d9b8f1",
   "metadata": {},
   "outputs": [],
   "source": []
  },
  {
   "cell_type": "code",
   "execution_count": 59,
   "id": "e7f09fd4",
   "metadata": {},
   "outputs": [
    {
     "data": {
      "text/plain": [
       "80"
      ]
     },
     "execution_count": 59,
     "metadata": {},
     "output_type": "execute_result"
    }
   ],
   "source": [
    "config_bits[i]"
   ]
  },
  {
   "cell_type": "code",
   "execution_count": 17,
   "id": "1181199f",
   "metadata": {},
   "outputs": [
    {
     "data": {
      "text/plain": [
       "7200"
      ]
     },
     "execution_count": 17,
     "metadata": {},
     "output_type": "execute_result"
    }
   ],
   "source": [
    "int('1c20', 16)"
   ]
  },
  {
   "cell_type": "code",
   "execution_count": 19,
   "id": "8d69a8b4",
   "metadata": {},
   "outputs": [
    {
     "data": {
      "text/plain": [
       "8200"
      ]
     },
     "execution_count": 19,
     "metadata": {},
     "output_type": "execute_result"
    }
   ],
   "source": [
    "int('2008', 16)"
   ]
  },
  {
   "cell_type": "code",
   "execution_count": 21,
   "id": "0fbdc8b7",
   "metadata": {},
   "outputs": [
    {
     "data": {
      "text/plain": [
       "10500"
      ]
     },
     "execution_count": 21,
     "metadata": {},
     "output_type": "execute_result"
    }
   ],
   "source": [
    "int('2904', 16)"
   ]
  },
  {
   "cell_type": "code",
   "execution_count": 23,
   "id": "2e4ec1b1",
   "metadata": {},
   "outputs": [
    {
     "data": {
      "text/plain": [
       "8"
      ]
     },
     "execution_count": 23,
     "metadata": {},
     "output_type": "execute_result"
    }
   ],
   "source": [
    "int('08', 16)"
   ]
  },
  {
   "cell_type": "code",
   "execution_count": null,
   "id": "a0531ba3",
   "metadata": {},
   "outputs": [],
   "source": []
  },
  {
   "cell_type": "code",
   "execution_count": 12,
   "id": "4d0a9094",
   "metadata": {},
   "outputs": [
    {
     "data": {
      "text/plain": [
       "40000"
      ]
     },
     "execution_count": 12,
     "metadata": {},
     "output_type": "execute_result"
    }
   ],
   "source": [
    "int(hex(46117799229893879798816)[2:][:4],16)"
   ]
  },
  {
   "cell_type": "code",
   "execution_count": 14,
   "id": "c92a7ad6",
   "metadata": {},
   "outputs": [
    {
     "data": {
      "text/plain": [
       "53378"
      ]
     },
     "execution_count": 14,
     "metadata": {},
     "output_type": "execute_result"
    }
   ],
   "source": [
    "int(hex(46117799229893879798816)[2:][4:8],16)"
   ]
  }
 ],
 "metadata": {
  "kernelspec": {
   "display_name": "Python 3 (ipykernel)",
   "language": "python",
   "name": "python3"
  },
  "language_info": {
   "codemirror_mode": {
    "name": "ipython",
    "version": 3
   },
   "file_extension": ".py",
   "mimetype": "text/x-python",
   "name": "python",
   "nbconvert_exporter": "python",
   "pygments_lexer": "ipython3",
   "version": "3.9.13"
  }
 },
 "nbformat": 4,
 "nbformat_minor": 5
}
