{
 "cells": [
  {
   "cell_type": "code",
   "execution_count": 2,
   "id": "3d34445d-dcd7-45c5-8d92-4d8862216839",
   "metadata": {},
   "outputs": [],
   "source": [
    "import asyncio\n",
    "import websockets\n",
    "import json\n",
    "import time\n",
    "\n",
    "import sys\n",
    "sys.path.append(\"./chainklik\")\n",
    "import pandas as pd\n",
    "import requests\n",
    "from web3 import Web3\n",
    "\n",
    "import libs.common.utils as utils\n",
    "import libs.common.payload as payload\n",
    "import config.config as cfg"
   ]
  },
  {
   "cell_type": "code",
   "execution_count": 3,
   "id": "3c3c2dfd-870c-4535-9f4b-a33bdb0f1617",
   "metadata": {},
   "outputs": [],
   "source": [
    "# Connect to an Ethereum node\n",
    "w3 = Web3(Web3.HTTPProvider(cfg.config[\"eth_sepolia_http_url\"]))\n",
    "\n",
    "# Set sender and recipient addresses\n",
    "sender_address = '0x5bA4D4264Bf9A8C3aaF7e1fea6f83f50643A3Fd7'\n",
    "recipient_address = '0xaf6667a2F847beeca6a6604126Dc28344518840b'\n",
    "\n",
    "# Set private key for the sender's account. \n",
    "private_key = '1dab201501e8b882ca3413edcdfed263e4834cd8ea4c9586aca7fb699c51d681'"
   ]
  },
  {
   "cell_type": "code",
   "execution_count": 47,
   "id": "80d2094e-b7cd-4ba1-a298-29ebb321037f",
   "metadata": {},
   "outputs": [
    {
     "data": {
      "text/plain": [
       "5007928"
      ]
     },
     "execution_count": 47,
     "metadata": {},
     "output_type": "execute_result"
    }
   ],
   "source": [
    "w3.eth.get_block(\"latest\")[\"number\"]"
   ]
  },
  {
   "cell_type": "code",
   "execution_count": 48,
   "id": "acbaa2a0-9b6a-42d5-8c5a-a8a235117d86",
   "metadata": {},
   "outputs": [],
   "source": [
    "bt = BlockTimer(w3.eth.get_block(\"latest\")[\"number\"], w3.eth.get_block(\"latest\")[\"number\"] + 100, 5)\n",
    "data_node = DataNode(\"block_data\", {}, {}, bt)"
   ]
  },
  {
   "cell_type": "code",
   "execution_count": null,
   "id": "76ee4449-fc2b-4878-9bfb-5991ef05c67e",
   "metadata": {},
   "outputs": [],
   "source": [
    "tx_node = TxNode(\"tx\",{},{},)"
   ]
  },
  {
   "cell_type": "code",
   "execution_count": 2,
   "id": "f48c7397-c812-41c3-b2fe-17bdc4763b73",
   "metadata": {},
   "outputs": [],
   "source": [
    "async def process_message(block_info):\n",
    "    print(block_info[\"number\"])\n",
    "    ctx = {\n",
    "        \"block_time\" : int(block_info[\"number\"], 16)\n",
    "    }\n",
    "    values = {}\n",
    "    data_node.run(ctx, values)"
   ]
  },
  {
   "cell_type": "code",
   "execution_count": 3,
   "id": "4b0900a2-7e69-4b5e-a6bb-9d3f8987bc34",
   "metadata": {},
   "outputs": [],
   "source": [
    "async def message():\n",
    "    async with websockets.connect(cfg.config[\"eth_sepolia_ws_url\"]) as ws:\n",
    "        sub_newheads = { \"id\":1, \"jsonrpc\":\"2.0\", \"method\":\"eth_subscribe\", \"params\":[\"newHeads\"] }\n",
    "        await ws.send(json.dumps(sub_newheads))\n",
    "        sub_res = await ws.recv()\n",
    "        print(json.loads(sub_res))\n",
    "        while True:\n",
    "            message = await asyncio.wait_for(ws.recv(), timeout=60)\n",
    "            block_info = json.loads(message)[\"params\"][\"result\"]\n",
    "            # start = time.time()\n",
    "            await process_message(block_info)\n",
    "            # end = time.time()\n",
    "            # print(end-start)"
   ]
  },
  {
   "cell_type": "code",
   "execution_count": null,
   "id": "b99d4a64-cc70-449f-b82d-f5d60961afd5",
   "metadata": {},
   "outputs": [
    {
     "name": "stdout",
     "output_type": "stream",
     "text": [
      "{'jsonrpc': '2.0', 'id': 1, 'result': '0xec7238b8fd206cbc3bd1ecf29bb415ab'}\n",
      "0x4c6a22\n",
      "0.00018787384033203125\n",
      "0x4c6a23\n",
      "0.00019097328186035156\n"
     ]
    }
   ],
   "source": [
    "import nest_asyncio\n",
    "nest_asyncio.apply()\n",
    "\n",
    "loop = asyncio.get_event_loop()\n",
    "while True:\n",
    "    loop.run_until_complete(message())"
   ]
  },
  {
   "cell_type": "code",
   "execution_count": 4,
   "id": "fcab7bf4-4cce-42fb-ac80-681415d16443",
   "metadata": {},
   "outputs": [
    {
     "name": "stdout",
     "output_type": "stream",
     "text": [
      "The balance of 0x5bA4D4264Bf9A8C3aaF7e1fea6f83f50643A3Fd7 is: 0.489531614690461 ETH\n",
      "The balance of 0xaf6667a2F847beeca6a6604126Dc28344518840b is: 0.01 ETH\n"
     ]
    }
   ],
   "source": [
    "balance_sender = w3.from_wei(w3.eth.get_balance(sender_address), 'ether')\n",
    "balance_recipient = w3.from_wei(w3.eth.get_balance(recipient_address), 'ether')\n",
    "\n",
    "print(f'The balance of { sender_address } is: { balance_sender } ETH')\n",
    "print(f'The balance of { recipient_address } is: { balance_recipient } ETH')"
   ]
  },
  {
   "cell_type": "code",
   "execution_count": 5,
   "id": "10122c69-f9fd-4e52-9e2b-33776b59b08d",
   "metadata": {},
   "outputs": [],
   "source": [
    "from abc import ABC, abstractmethod\n",
    "\n",
    "class Timer(ABC):\n",
    "    def __init__(self, start, end, frequency):\n",
    "        self.start = start\n",
    "        self.end = end\n",
    "        self.frequency = frequency\n",
    "        assert self.start < self.end\n",
    "\n",
    "    @abstractmethod\n",
    "    def is_active(self, ctx):\n",
    "        pass\n",
    "\n",
    "    @abstractmethod\n",
    "    def is_expired(self, ctx):\n",
    "        pass\n",
    "        \n",
    "class BlockTimer(Timer):\n",
    "    def __init__(self, start, end, frequency):\n",
    "        super().__init__(start, end, frequency)\n",
    "\n",
    "    def is_active(self, ctx):\n",
    "        if ctx[\"block_time\"] - self.start >= 0:\n",
    "            self.start = ((ctx[\"block_time\"] - self.start) // self.frequency + 1) * self.frequency + self.start\n",
    "            return True\n",
    "        else:\n",
    "            return False\n",
    "\n",
    "    def is_expired(self, ctx):\n",
    "        if self.start >= self.end:\n",
    "            return True\n",
    "        return False"
   ]
  },
  {
   "cell_type": "code",
   "execution_count": 6,
   "id": "2b0ed6c7-881d-4e4c-9da1-76d2f48f7006",
   "metadata": {},
   "outputs": [],
   "source": [
    "class TimerDecorator:\n",
    "    def __init__(self, timer_attr):\n",
    "        self.timer_attr = timer_attr\n",
    "\n",
    "    def __call__(self, func):\n",
    "        def wrapper(*args, **kwargs):\n",
    "            timer = getattr(args[0], self.timer_attr)\n",
    "            ctx = args[1]\n",
    "            if not timer.is_expired(ctx) and timer.is_active(ctx):\n",
    "                func(*args, **kwargs)\n",
    "        return wrapper"
   ]
  },
  {
   "cell_type": "code",
   "execution_count": 7,
   "id": "b35838da-c7a6-4de0-81f0-c1b4e801014e",
   "metadata": {},
   "outputs": [],
   "source": [
    "class Node(ABC):\n",
    "    def __init__(self, id: str, deps: dict, params: dict):\n",
    "        self.id = id\n",
    "        self.deps = deps\n",
    "        self.params = params\n",
    "        self.output = None\n",
    "        self.active = False\n",
    "        self.finalized = True\n",
    "\n",
    "    @abstractmethod\n",
    "    def run(self, ctx: dict, values: dict) -> None:\n",
    "        pass"
   ]
  },
  {
   "cell_type": "code",
   "execution_count": 8,
   "id": "7262b24d-e14e-48f2-9c67-f439e99bb50a",
   "metadata": {},
   "outputs": [],
   "source": [
    "class DataNode(Node):\n",
    "    def __init__(self, id: str, deps: dict, params: dict, timer: Timer = None):\n",
    "        super().__init__(id, deps, params)\n",
    "        self.timer = timer\n",
    "    \n",
    "    @TimerDecorator(\"timer\")\n",
    "    def run(self, ctx: dict, values: dict) -> None:\n",
    "        self.output = values\n",
    "        self.active = True\n",
    "        self.finalized = True"
   ]
  },
  {
   "cell_type": "code",
   "execution_count": 49,
   "id": "7493640b-7c60-40ba-8483-49b32e4e1a59",
   "metadata": {},
   "outputs": [],
   "source": [
    "class TxNode:\n",
    "    def __init__(self, id: str, deps: dict, params: dict):\n",
    "        super().__init__(id, deps, params)\n",
    "        self.wallet = params[\"wallet\"]\n",
    "        self.to = params[\"to\"]\n",
    "        self.amount = params[\"amount\"]\n",
    "        self.finality = params[\"finality\"] if \"finality\" in params else 2\n",
    "        self.gas = params[\"gas\"] if \"gas\" in params else 2\n",
    "    \n",
    "    def run(self, ctx: dict, values: dict):\n",
    "        if self.finalized: # a new or finalized txn\n",
    "            latest_block = w3.eth.get_block(\"latest\")\n",
    "            base_fee_per_gas = latest_block.baseFeePerGas   # Base fee in the latest block (in wei)\n",
    "            max_priority_fee_per_gas = w3.to_wei(1, 'gwei') # Priority fee to include the transaction in the block\n",
    "            max_fee_per_gas = (5 * base_fee_per_gas) + max_priority_fee_per_gas # Maximum amount you’re willing to pay \n",
    "            \n",
    "            transaction_params = {\n",
    "                'from': self.wallet,\n",
    "                'to': self.to,\n",
    "                'value': w3.to_wei(self.amount, 'ether'),\n",
    "                'nonce': w3.eth.get_transaction_count(self.wallet),\n",
    "                'gas': self.gas, \n",
    "                'maxFeePerGas': max_fee_per_gas, # Maximum amount you’re willing to pay \n",
    "                'maxPriorityFeePerGas': max_priority_fee_per_gas, # Priority fee to include the transaction in the block\n",
    "                'chainId': 11155111 # ChainId of Sepolia Testnet\n",
    "            }\n",
    "        \n",
    "            transaction = w3.eth.account.sign_transaction(transaction_params, private_key)\n",
    "            transaction_hash = w3.eth.send_raw_transaction(transaction.rawTransaction)\n",
    "            transaction_receipt = w3.eth.wait_for_transaction_receipt(transaction_hash)\n",
    "        \n",
    "            if transaction_receipt.status:\n",
    "                print('Transaction successful!')\n",
    "                print('Transaction hash:', transaction_hash.hex())\n",
    "                print(f'Explorer link: https://sepolia.etherscan.io/tx/{transaction_hash.hex()}')\n",
    "                self.tx_block = transaction_receipt[\"blockNumber\"]\n",
    "                self.status = \"unfinalized\"\n",
    "            else:\n",
    "                print('Transaction failed.')\n",
    "                self.status = \"failed\"\n",
    "        elif ctx.block_time - self.tx_block >= self.finality:\n",
    "            self.finalized = True"
   ]
  },
  {
   "cell_type": "code",
   "execution_count": null,
   "id": "d33aeb9d-9cc0-4be1-ac1d-13cd0564df6f",
   "metadata": {},
   "outputs": [],
   "source": []
  }
 ],
 "metadata": {
  "kernelspec": {
   "display_name": "Python 3 (ipykernel)",
   "language": "python",
   "name": "python3"
  },
  "language_info": {
   "codemirror_mode": {
    "name": "ipython",
    "version": 3
   },
   "file_extension": ".py",
   "mimetype": "text/x-python",
   "name": "python",
   "nbconvert_exporter": "python",
   "pygments_lexer": "ipython3",
   "version": "3.11.6"
  }
 },
 "nbformat": 4,
 "nbformat_minor": 5
}
