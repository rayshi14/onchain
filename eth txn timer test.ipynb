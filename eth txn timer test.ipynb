{
 "cells": [
  {
   "cell_type": "code",
   "execution_count": 1,
   "id": "3d34445d-dcd7-45c5-8d92-4d8862216839",
   "metadata": {},
   "outputs": [],
   "source": [
    "import asyncio\n",
    "import websockets\n",
    "import json\n",
    "import time\n",
    "\n",
    "import sys\n",
    "sys.path.append(\"./chainklik\")\n",
    "import pandas as pd\n",
    "import requests\n",
    "from web3 import Web3\n",
    "from collections import defaultdict \n",
    "\n",
    "import libs.common.utils as utils\n",
    "import libs.common.payload as payload\n",
    "import config.config as cfg\n",
    "from nodes.data import *\n",
    "from nodes.eth import *"
   ]
  },
  {
   "cell_type": "code",
   "execution_count": 2,
   "id": "3c3c2dfd-870c-4535-9f4b-a33bdb0f1617",
   "metadata": {},
   "outputs": [],
   "source": [
    "# Connect to an Ethereum node\n",
    "w3 = Web3(Web3.HTTPProvider(cfg.config[\"eth_sepolia_http_url\"]))\n",
    "\n",
    "# Set sender and recipient addresses\n",
    "sender_address = '0x5bA4D4264Bf9A8C3aaF7e1fea6f83f50643A3Fd7'\n",
    "recipient_address = '0xaf6667a2F847beeca6a6604126Dc28344518840b'\n",
    "\n",
    "# Set private key for the sender's account. \n",
    "private_key = '1dab201501e8b882ca3413edcdfed263e4834cd8ea4c9586aca7fb699c51d681'"
   ]
  },
  {
   "cell_type": "code",
   "execution_count": 3,
   "id": "f5d042ec-5a04-4526-88db-591ca02e2cc8",
   "metadata": {},
   "outputs": [
    {
     "name": "stdout",
     "output_type": "stream",
     "text": [
      "The balance of 0x5bA4D4264Bf9A8C3aaF7e1fea6f83f50643A3Fd7 is: 0.376363494037823 ETH\n",
      "The balance of 0xaf6667a2F847beeca6a6604126Dc28344518840b is: 0.1065 ETH\n"
     ]
    }
   ],
   "source": [
    "balance_sender = w3.from_wei(w3.eth.get_balance(sender_address), 'ether')\n",
    "balance_recipient = w3.from_wei(w3.eth.get_balance(recipient_address), 'ether')\n",
    "\n",
    "print(f'The balance of { sender_address } is: { balance_sender } ETH')\n",
    "print(f'The balance of { recipient_address } is: { balance_recipient } ETH')"
   ]
  },
  {
   "cell_type": "code",
   "execution_count": 4,
   "id": "80d2094e-b7cd-4ba1-a298-29ebb321037f",
   "metadata": {},
   "outputs": [
    {
     "data": {
      "text/plain": [
       "5027821"
      ]
     },
     "execution_count": 4,
     "metadata": {},
     "output_type": "execute_result"
    }
   ],
   "source": [
    "w3.eth.get_block(\"latest\")[\"number\"]"
   ]
  },
  {
   "cell_type": "code",
   "execution_count": 5,
   "id": "acbaa2a0-9b6a-42d5-8c5a-a8a235117d86",
   "metadata": {},
   "outputs": [],
   "source": [
    "bt = BlockTimer(w3.eth.get_block(\"latest\")[\"number\"], w3.eth.get_block(\"latest\")[\"number\"]+20, 5)\n",
    "data_node = DataNode(\"data\", {}, {}, bt)"
   ]
  },
  {
   "cell_type": "code",
   "execution_count": 6,
   "id": "76ee4449-fc2b-4878-9bfb-5991ef05c67e",
   "metadata": {},
   "outputs": [],
   "source": [
    "tx_node1 = TxNode(\"tx1\",{\"trigger\":\"data\"},{\"wallet\":sender_address,\"to\":recipient_address,\"amount\":0.001}, w3, private_key)\n",
    "tx_node2 = TxNode(\"tx2\",{\"trigger\":\"data\"},{\"wallet\":sender_address,\"to\":recipient_address,\"amount\":0.002}, w3, private_key)\n",
    "tx_node3 = TxNode(\"tx3\",{\"trigger\":\"tx1\"},{\"wallet\":sender_address,\"to\":recipient_address,\"amount\":0.003}, w3, private_key)"
   ]
  },
  {
   "cell_type": "code",
   "execution_count": 7,
   "id": "1e7beb09-2d0b-41d4-b34c-a94133fa00c3",
   "metadata": {},
   "outputs": [],
   "source": [
    "node_layers = [\n",
    "    [\"data\"],\n",
    "    [\"tx1\", \"tx2\"],\n",
    "    [\"tx3\"]\n",
    "]"
   ]
  },
  {
   "cell_type": "code",
   "execution_count": 8,
   "id": "6c2a5a10-fe15-4f31-b5e1-10e7b77b96a1",
   "metadata": {},
   "outputs": [],
   "source": [
    "nodes = {\n",
    "    \"data\": data_node, \n",
    "    \"tx1\": tx_node1,\n",
    "    \"tx2\": tx_node2,\n",
    "    \"tx3\": tx_node3\n",
    "}"
   ]
  },
  {
   "cell_type": "code",
   "execution_count": 9,
   "id": "654f3605-ce9b-467b-8965-cc7ec037246c",
   "metadata": {},
   "outputs": [
    {
     "data": {
      "text/plain": [
       "{'id': 'data',\n",
       " 'deps': {},\n",
       " 'params': {},\n",
       " 'output': None,\n",
       " 'active': False,\n",
       " 'finalized': True,\n",
       " 'timer': <nodes.decorator.BlockTimer at 0x11e881110>}"
      ]
     },
     "execution_count": 9,
     "metadata": {},
     "output_type": "execute_result"
    }
   ],
   "source": [
    "nodes[\"data\"].__dict__"
   ]
  },
  {
   "cell_type": "code",
   "execution_count": 10,
   "id": "1cdef8cf-eec5-4ccc-9a47-4a0ecb08aa43",
   "metadata": {},
   "outputs": [],
   "source": [
    "def print_nodes_state(node_layers):\n",
    "    print('######## node state ##########')\n",
    "    for node_layer in node_layers:\n",
    "        print([(nodes[key].active,nodes[key].finalized) for key in node_layer])"
   ]
  },
  {
   "cell_type": "code",
   "execution_count": 11,
   "id": "6bded675-b3ed-43e7-b4ee-57fa00d0c11b",
   "metadata": {},
   "outputs": [],
   "source": [
    "ctx = {}\n",
    "ctx[\"pending_txs\"] = defaultdict(int)"
   ]
  },
  {
   "cell_type": "code",
   "execution_count": 12,
   "id": "f48c7397-c812-41c3-b2fe-17bdc4763b73",
   "metadata": {},
   "outputs": [],
   "source": [
    "async def process_message(block_info):\n",
    "    print(int(block_info[\"number\"], 16))\n",
    "    ctx[\"block_time\"] = int(block_info[\"number\"], 16)\n",
    "    values = {\"block_time\": int(block_info[\"number\"], 16)}\n",
    "    for key in nodes:\n",
    "        if nodes[key].finalized:\n",
    "            nodes[key].active = False\n",
    "        else:\n",
    "            nodes[key].active = True\n",
    "\n",
    "    print_nodes_state(node_layers)\n",
    "    \n",
    "    for node_layer in node_layers:\n",
    "        for key in node_layer:\n",
    "            print(key)\n",
    "            if len(nodes[key].deps) == 0: # no deps/input node\n",
    "                nodes[key].run(ctx, values)\n",
    "            else:\n",
    "                for dep in nodes[key].deps:\n",
    "                    if nodes[nodes[key].deps[dep]].active and nodes[nodes[key].deps[dep]].finalized:\n",
    "                        nodes[key].run(ctx, values)\n",
    "                    elif nodes[key].active:\n",
    "                        nodes[key].run(ctx, values)\n",
    "\n",
    "    print_nodes_state(node_layers)\n",
    "\n",
    "    print(bt.__dict__)\n",
    "    \n",
    "    # for node_layer in node_layers:\n",
    "    #     for key in node_layer:\n",
    "    #         print(nodes[key].__dict__)\n",
    "    print(ctx)"
   ]
  },
  {
   "cell_type": "code",
   "execution_count": 13,
   "id": "4b0900a2-7e69-4b5e-a6bb-9d3f8987bc34",
   "metadata": {},
   "outputs": [],
   "source": [
    "async def message():\n",
    "    async with websockets.connect(cfg.config[\"eth_sepolia_ws_url\"]) as ws:\n",
    "        sub_newheads = { \"id\":1, \"jsonrpc\":\"2.0\", \"method\":\"eth_subscribe\", \"params\":[\"newHeads\"] }\n",
    "        await ws.send(json.dumps(sub_newheads))\n",
    "        sub_res = await ws.recv()\n",
    "        print(json.loads(sub_res))\n",
    "        while True:\n",
    "            message = await asyncio.wait_for(ws.recv(), timeout=60)\n",
    "            block_info = json.loads(message)[\"params\"][\"result\"]\n",
    "            # start = time.time()\n",
    "            await process_message(block_info)\n",
    "            # end = time.time()\n",
    "            # print(end-start)"
   ]
  },
  {
   "cell_type": "code",
   "execution_count": null,
   "id": "b99d4a64-cc70-449f-b82d-f5d60961afd5",
   "metadata": {},
   "outputs": [
    {
     "name": "stdout",
     "output_type": "stream",
     "text": [
      "{'jsonrpc': '2.0', 'id': 1, 'result': '0x4a13dc7fe597007087637faac90e6774'}\n",
      "5027822\n",
      "######## node state ##########\n",
      "[(False, True)]\n",
      "[(False, True), (False, True)]\n",
      "[(False, True)]\n",
      "data\n",
      "tx1\n",
      "New transaction. tx1\n",
      "Transaction sent! tx1\n",
      "tx2\n",
      "New transaction. tx2\n",
      "Transaction sent! tx2\n",
      "tx3\n",
      "######## node state ##########\n",
      "[(True, True)]\n",
      "[(True, False), (True, False)]\n",
      "[(False, True)]\n",
      "{'start': 5027826, 'end': 5027841, 'frequency': 5}\n",
      "{'pending_txs': defaultdict(<class 'int'>, {'0x5bA4D4264Bf9A8C3aaF7e1fea6f83f50643A3Fd7': 2}), 'block_time': 5027822}\n",
      "5027823\n",
      "######## node state ##########\n",
      "[(False, True)]\n",
      "[(True, False), (True, False)]\n",
      "[(False, True)]\n",
      "data\n",
      "tx1\n",
      "tx2\n",
      "tx3\n",
      "######## node state ##########\n",
      "[(False, True)]\n",
      "[(True, False), (True, False)]\n",
      "[(False, True)]\n",
      "{'start': 5027826, 'end': 5027841, 'frequency': 5}\n",
      "{'pending_txs': defaultdict(<class 'int'>, {'0x5bA4D4264Bf9A8C3aaF7e1fea6f83f50643A3Fd7': 2}), 'block_time': 5027823}\n",
      "5027824\n",
      "######## node state ##########\n",
      "[(False, True)]\n",
      "[(True, False), (True, False)]\n",
      "[(False, True)]\n",
      "data\n",
      "tx1\n",
      "Transaction finalized. tx1 AttributeDict({'blockHash': HexBytes('0xb39c77f38041c242a77831122cc8c1dc1540ace577b9b159fe8b2cb4e9693bf5'), 'blockNumber': 5027823, 'from': '0x5bA4D4264Bf9A8C3aaF7e1fea6f83f50643A3Fd7', 'gas': 21000, 'gasPrice': 33679078637, 'maxFeePerGas': 176219520805, 'maxPriorityFeePerGas': 1000000000, 'hash': HexBytes('0x3186b4b77fd9fab448a256bfb61bc7d84b6045f1cc34846a603d074ae6237df1'), 'input': HexBytes('0x'), 'nonce': 61, 'to': '0xaf6667a2F847beeca6a6604126Dc28344518840b', 'transactionIndex': 62, 'value': 1000000000000000, 'type': 2, 'accessList': [], 'chainId': 11155111, 'v': 0, 'r': HexBytes('0x20644b62b3292fc7b4a940a75dddfc442e91c0650609d265f14296316b78f556'), 's': HexBytes('0x6305a56d3a785468ed11b9611e87b326f5fdd870ad5854098aee3f15f5edee80'), 'yParity': 0})\n",
      "tx2\n",
      "Transaction finalized. tx2 AttributeDict({'blockHash': HexBytes('0xb39c77f38041c242a77831122cc8c1dc1540ace577b9b159fe8b2cb4e9693bf5'), 'blockNumber': 5027823, 'from': '0x5bA4D4264Bf9A8C3aaF7e1fea6f83f50643A3Fd7', 'gas': 21000, 'gasPrice': 33679078637, 'maxFeePerGas': 171399748690, 'maxPriorityFeePerGas': 1000000000, 'hash': HexBytes('0x04f6dd43e908c58559538451f9a588e38013fc2deef42503a873cc84f38d818f'), 'input': HexBytes('0x'), 'nonce': 62, 'to': '0xaf6667a2F847beeca6a6604126Dc28344518840b', 'transactionIndex': 63, 'value': 2000000000000000, 'type': 2, 'accessList': [], 'chainId': 11155111, 'v': 1, 'r': HexBytes('0xe1f285fb47700150e9ecdfd719a6d8b45c3dc5e68b910809f7c171b6db261b71'), 's': HexBytes('0x48bb5b698c297a80f17fcd19d528e2bceae79d72bd26ed9410b953bf50ce888a'), 'yParity': 1})\n",
      "tx3\n",
      "New transaction. tx3\n",
      "Transaction sent! tx3\n",
      "######## node state ##########\n",
      "[(False, True)]\n",
      "[(True, True), (True, True)]\n",
      "[(True, False)]\n",
      "{'start': 5027826, 'end': 5027841, 'frequency': 5}\n",
      "{'pending_txs': defaultdict(<class 'int'>, {'0x5bA4D4264Bf9A8C3aaF7e1fea6f83f50643A3Fd7': 1}), 'block_time': 5027824}\n",
      "5027825\n",
      "######## node state ##########\n",
      "[(False, True)]\n",
      "[(False, True), (False, True)]\n",
      "[(True, False)]\n",
      "data\n",
      "tx1\n",
      "tx2\n",
      "tx3\n",
      "######## node state ##########\n",
      "[(False, True)]\n",
      "[(False, True), (False, True)]\n",
      "[(True, False)]\n",
      "{'start': 5027826, 'end': 5027841, 'frequency': 5}\n",
      "{'pending_txs': defaultdict(<class 'int'>, {'0x5bA4D4264Bf9A8C3aaF7e1fea6f83f50643A3Fd7': 1}), 'block_time': 5027825}\n",
      "5027826\n",
      "######## node state ##########\n",
      "[(False, True)]\n",
      "[(False, True), (False, True)]\n",
      "[(True, False)]\n",
      "data\n",
      "tx1\n",
      "New transaction. tx1\n",
      "Transaction sent! tx1\n",
      "tx2\n",
      "New transaction. tx2\n",
      "Transaction sent! tx2\n",
      "tx3\n",
      "Transaction finalized. tx3 AttributeDict({'blockHash': HexBytes('0x6ee9e21ef6cf767483c7736407738a6f809ff268c65f50fcee4e880663855515'), 'blockNumber': 5027825, 'from': '0x5bA4D4264Bf9A8C3aaF7e1fea6f83f50643A3Fd7', 'gas': 21000, 'gasPrice': 31957607712, 'maxFeePerGas': 161383617135, 'maxPriorityFeePerGas': 1000000000, 'hash': HexBytes('0xc534f93de35017cd70f9b0eff2d43349b35615e2c7b992e2d7fc96ddb0fa3ce3'), 'input': HexBytes('0x'), 'nonce': 63, 'to': '0xaf6667a2F847beeca6a6604126Dc28344518840b', 'transactionIndex': 68, 'value': 3000000000000000, 'type': 2, 'accessList': [], 'chainId': 11155111, 'v': 0, 'r': HexBytes('0x48e704669e3dcb8c85d2e0d418916a1a987f7f5434bbc6edd6c72bb028db220e'), 's': HexBytes('0x7cb8a3f14e1a6777e8edd0e31f44f4ed5bb6ddbaff7cbbc45dd29ed195d2cb3f'), 'yParity': 0})\n",
      "######## node state ##########\n",
      "[(True, True)]\n",
      "[(True, False), (True, False)]\n",
      "[(True, True)]\n",
      "{'start': 5027831, 'end': 5027841, 'frequency': 5}\n",
      "{'pending_txs': defaultdict(<class 'int'>, {'0x5bA4D4264Bf9A8C3aaF7e1fea6f83f50643A3Fd7': 2}), 'block_time': 5027826}\n",
      "5027827\n",
      "######## node state ##########\n",
      "[(False, True)]\n",
      "[(True, False), (True, False)]\n",
      "[(False, True)]\n",
      "data\n",
      "tx1\n",
      "tx2\n",
      "tx3\n",
      "######## node state ##########\n",
      "[(False, True)]\n",
      "[(True, False), (True, False)]\n",
      "[(False, True)]\n",
      "{'start': 5027831, 'end': 5027841, 'frequency': 5}\n",
      "{'pending_txs': defaultdict(<class 'int'>, {'0x5bA4D4264Bf9A8C3aaF7e1fea6f83f50643A3Fd7': 2}), 'block_time': 5027827}\n",
      "5027828\n",
      "######## node state ##########\n",
      "[(False, True)]\n",
      "[(True, False), (True, False)]\n",
      "[(False, True)]\n",
      "data\n",
      "tx1\n",
      "Transaction finalized. tx1 AttributeDict({'blockHash': None, 'blockNumber': None, 'from': '0x5bA4D4264Bf9A8C3aaF7e1fea6f83f50643A3Fd7', 'gas': 21000, 'gasPrice': 155788038560, 'maxFeePerGas': 155788038560, 'maxPriorityFeePerGas': 1000000000, 'hash': HexBytes('0xb108fa5859327724109491e7fcdb92e267f710d07b48ae451616897a8386fa58'), 'input': HexBytes('0x'), 'nonce': 65, 'to': '0xaf6667a2F847beeca6a6604126Dc28344518840b', 'transactionIndex': None, 'value': 1000000000000000, 'type': 2, 'accessList': [], 'chainId': 11155111, 'v': 0, 'r': HexBytes('0xbce7bc34a2021f812c95984a1f0f7271749a92092012474f4f8ed63b09b0c905'), 's': HexBytes('0x752e9beeabc011e1db00d4b2338dc625d496c57184e0a26efcc2907752bb6521'), 'yParity': 0})\n",
      "tx2\n",
      "Transaction finalized. tx2 AttributeDict({'blockHash': None, 'blockNumber': None, 'from': '0x5bA4D4264Bf9A8C3aaF7e1fea6f83f50643A3Fd7', 'gas': 21000, 'gasPrice': 155788038560, 'maxFeePerGas': 155788038560, 'maxPriorityFeePerGas': 1000000000, 'hash': HexBytes('0x2f463f8987deb01d8527cf8c718a73a82f0ad33f6bdceb319cbc4d896cfcd55d'), 'input': HexBytes('0x'), 'nonce': 66, 'to': '0xaf6667a2F847beeca6a6604126Dc28344518840b', 'transactionIndex': None, 'value': 2000000000000000, 'type': 2, 'accessList': [], 'chainId': 11155111, 'v': 0, 'r': HexBytes('0xb806c46ee21414adc804f1c32778a68081584a44a16d51f236d395c3ac7eb239'), 's': HexBytes('0x7d64c17a7505a762221007c93b8e9fcf6a9601c111db70fca30a0863d4b37ab8'), 'yParity': 0})\n",
      "tx3\n",
      "New transaction. tx3\n",
      "Transaction sent! tx3\n",
      "######## node state ##########\n",
      "[(False, True)]\n",
      "[(True, True), (True, True)]\n",
      "[(True, False)]\n",
      "{'start': 5027831, 'end': 5027841, 'frequency': 5}\n",
      "{'pending_txs': defaultdict(<class 'int'>, {'0x5bA4D4264Bf9A8C3aaF7e1fea6f83f50643A3Fd7': 1}), 'block_time': 5027828}\n",
      "5027829\n",
      "######## node state ##########\n",
      "[(False, True)]\n",
      "[(False, True), (False, True)]\n",
      "[(True, False)]\n",
      "data\n",
      "tx1\n",
      "tx2\n",
      "tx3\n",
      "######## node state ##########\n",
      "[(False, True)]\n",
      "[(False, True), (False, True)]\n",
      "[(True, False)]\n",
      "{'start': 5027831, 'end': 5027841, 'frequency': 5}\n",
      "{'pending_txs': defaultdict(<class 'int'>, {'0x5bA4D4264Bf9A8C3aaF7e1fea6f83f50643A3Fd7': 1}), 'block_time': 5027829}\n",
      "5027830\n",
      "######## node state ##########\n",
      "[(False, True)]\n",
      "[(False, True), (False, True)]\n",
      "[(True, False)]\n",
      "data\n",
      "tx1\n",
      "tx2\n",
      "tx3\n",
      "Transaction finalized. tx3 AttributeDict({'blockHash': HexBytes('0x0af7340b15b2964f7f3d36cc96f86204d3a92f21ee2cd9502d625eb366a56c2e'), 'blockNumber': 5027829, 'from': '0x5bA4D4264Bf9A8C3aaF7e1fea6f83f50643A3Fd7', 'gas': 21000, 'gasPrice': 33329116777, 'maxFeePerGas': 170243683130, 'maxPriorityFeePerGas': 1000000000, 'hash': HexBytes('0x11b0e7bdfafe8c68572cb137b3f08ea52b320de4e6e655f00357fbb24d13ad62'), 'input': HexBytes('0x'), 'nonce': 64, 'to': '0xaf6667a2F847beeca6a6604126Dc28344518840b', 'transactionIndex': 55, 'value': 3000000000000000, 'type': 2, 'accessList': [], 'chainId': 11155111, 'v': 1, 'r': HexBytes('0xbaca265d4e46b0758e8f6b67a3c7fb3eea39e16b32a91f2982727c9d60afa76f'), 's': HexBytes('0x56464506cbc2bd535c3aedbe1a76a56c2b80a01fb4a9ed7f10dd1640b6782319'), 'yParity': 1})\n",
      "######## node state ##########\n",
      "[(False, True)]\n",
      "[(False, True), (False, True)]\n",
      "[(True, True)]\n",
      "{'start': 5027831, 'end': 5027841, 'frequency': 5}\n",
      "{'pending_txs': defaultdict(<class 'int'>, {'0x5bA4D4264Bf9A8C3aaF7e1fea6f83f50643A3Fd7': 0}), 'block_time': 5027830}\n"
     ]
    }
   ],
   "source": [
    "import nest_asyncio\n",
    "nest_asyncio.apply()\n",
    "\n",
    "loop = asyncio.get_event_loop()\n",
    "while True:\n",
    "    loop.run_until_complete(message())"
   ]
  },
  {
   "cell_type": "code",
   "execution_count": null,
   "id": "fcab7bf4-4cce-42fb-ac80-681415d16443",
   "metadata": {},
   "outputs": [],
   "source": []
  },
  {
   "cell_type": "code",
   "execution_count": null,
   "id": "10122c69-f9fd-4e52-9e2b-33776b59b08d",
   "metadata": {},
   "outputs": [],
   "source": []
  },
  {
   "cell_type": "code",
   "execution_count": null,
   "id": "2b0ed6c7-881d-4e4c-9da1-76d2f48f7006",
   "metadata": {},
   "outputs": [],
   "source": []
  },
  {
   "cell_type": "code",
   "execution_count": null,
   "id": "b35838da-c7a6-4de0-81f0-c1b4e801014e",
   "metadata": {},
   "outputs": [],
   "source": []
  },
  {
   "cell_type": "code",
   "execution_count": null,
   "id": "7262b24d-e14e-48f2-9c67-f439e99bb50a",
   "metadata": {},
   "outputs": [],
   "source": []
  },
  {
   "cell_type": "code",
   "execution_count": null,
   "id": "7493640b-7c60-40ba-8483-49b32e4e1a59",
   "metadata": {},
   "outputs": [],
   "source": []
  },
  {
   "cell_type": "code",
   "execution_count": null,
   "id": "d33aeb9d-9cc0-4be1-ac1d-13cd0564df6f",
   "metadata": {},
   "outputs": [],
   "source": []
  },
  {
   "cell_type": "code",
   "execution_count": null,
   "id": "2e6377ff-d0c6-449c-9a45-3cc400f828df",
   "metadata": {},
   "outputs": [],
   "source": []
  },
  {
   "cell_type": "code",
   "execution_count": null,
   "id": "66ef7fbe-455c-422c-bdbb-28fd87cb83f1",
   "metadata": {},
   "outputs": [],
   "source": []
  }
 ],
 "metadata": {
  "kernelspec": {
   "display_name": "Python 3 (ipykernel)",
   "language": "python",
   "name": "python3"
  },
  "language_info": {
   "codemirror_mode": {
    "name": "ipython",
    "version": 3
   },
   "file_extension": ".py",
   "mimetype": "text/x-python",
   "name": "python",
   "nbconvert_exporter": "python",
   "pygments_lexer": "ipython3",
   "version": "3.11.6"
  }
 },
 "nbformat": 4,
 "nbformat_minor": 5
}
