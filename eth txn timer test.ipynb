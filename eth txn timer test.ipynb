{
 "cells": [
  {
   "cell_type": "code",
   "execution_count": 1,
   "id": "3d34445d-dcd7-45c5-8d92-4d8862216839",
   "metadata": {},
   "outputs": [],
   "source": [
    "import asyncio\n",
    "import websockets\n",
    "import json\n",
    "import time\n",
    "\n",
    "import sys\n",
    "sys.path.append(\"./chainklik\")\n",
    "import pandas as pd\n",
    "import requests\n",
    "from web3 import Web3\n",
    "from collections import defaultdict \n",
    "\n",
    "import libs.common.utils as utils\n",
    "import libs.common.payload as payload\n",
    "import config.config as cfg\n",
    "from nodes.data import *\n",
    "from nodes.eth import *"
   ]
  },
  {
   "cell_type": "code",
   "execution_count": 2,
   "id": "3c3c2dfd-870c-4535-9f4b-a33bdb0f1617",
   "metadata": {},
   "outputs": [],
   "source": [
    "# Connect to an Ethereum node\n",
    "w3 = Web3(Web3.HTTPProvider(cfg.config[\"eth_sepolia_http_url\"]))\n",
    "\n",
    "# Set sender and recipient addresses\n",
    "sender_address = '0x5bA4D4264Bf9A8C3aaF7e1fea6f83f50643A3Fd7'\n",
    "recipient_address = '0xaf6667a2F847beeca6a6604126Dc28344518840b'\n",
    "\n",
    "# Set private key for the sender's account. \n",
    "private_key = '1dab201501e8b882ca3413edcdfed263e4834cd8ea4c9586aca7fb699c51d681'"
   ]
  },
  {
   "cell_type": "code",
   "execution_count": 3,
   "id": "f5d042ec-5a04-4526-88db-591ca02e2cc8",
   "metadata": {},
   "outputs": [
    {
     "name": "stdout",
     "output_type": "stream",
     "text": [
      "The balance of 0x5bA4D4264Bf9A8C3aaF7e1fea6f83f50643A3Fd7 is: 0.318747528448318 ETH\n",
      "The balance of 0xaf6667a2F847beeca6a6604126Dc28344518840b is: 0.1495 ETH\n"
     ]
    }
   ],
   "source": [
    "balance_sender = w3.from_wei(w3.eth.get_balance(sender_address), 'ether')\n",
    "balance_recipient = w3.from_wei(w3.eth.get_balance(recipient_address), 'ether')\n",
    "\n",
    "print(f'The balance of { sender_address } is: { balance_sender } ETH')\n",
    "print(f'The balance of { recipient_address } is: { balance_recipient } ETH')"
   ]
  },
  {
   "cell_type": "code",
   "execution_count": 4,
   "id": "80d2094e-b7cd-4ba1-a298-29ebb321037f",
   "metadata": {},
   "outputs": [
    {
     "data": {
      "text/plain": [
       "5028336"
      ]
     },
     "execution_count": 4,
     "metadata": {},
     "output_type": "execute_result"
    }
   ],
   "source": [
    "w3.eth.get_block(\"latest\")[\"number\"]"
   ]
  },
  {
   "cell_type": "code",
   "execution_count": 5,
   "id": "acbaa2a0-9b6a-42d5-8c5a-a8a235117d86",
   "metadata": {},
   "outputs": [],
   "source": [
    "bt = BlockTimer(w3.eth.get_block(\"latest\")[\"number\"], w3.eth.get_block(\"latest\")[\"number\"]+50, 5)\n",
    "data_node = DataNode(\"data\", {}, {}, bt)"
   ]
  },
  {
   "cell_type": "code",
   "execution_count": 6,
   "id": "76ee4449-fc2b-4878-9bfb-5991ef05c67e",
   "metadata": {},
   "outputs": [],
   "source": [
    "tx_node1 = TxNode(\"tx1\",{\"trigger\":\"data\"},{\"wallet\":sender_address,\"to\":recipient_address,\"amount\":0.001}, w3, private_key)\n",
    "tx_node2 = TxNode(\"tx2\",{\"trigger\":\"data\"},{\"wallet\":sender_address,\"to\":recipient_address,\"amount\":0.002}, w3, private_key)\n",
    "tx_node3 = TxNode(\"tx3\",{\"trigger\":\"tx1\"},{\"wallet\":sender_address,\"to\":recipient_address,\"amount\":0.003}, w3, private_key)"
   ]
  },
  {
   "cell_type": "code",
   "execution_count": 7,
   "id": "1e7beb09-2d0b-41d4-b34c-a94133fa00c3",
   "metadata": {},
   "outputs": [],
   "source": [
    "node_layers = [\n",
    "    [\"data\"],\n",
    "    [\"tx1\", \"tx2\"],\n",
    "    [\"tx3\"]\n",
    "]"
   ]
  },
  {
   "cell_type": "code",
   "execution_count": 8,
   "id": "6c2a5a10-fe15-4f31-b5e1-10e7b77b96a1",
   "metadata": {},
   "outputs": [],
   "source": [
    "nodes = {\n",
    "    \"data\": data_node, \n",
    "    \"tx1\": tx_node1,\n",
    "    \"tx2\": tx_node2,\n",
    "    \"tx3\": tx_node3\n",
    "}"
   ]
  },
  {
   "cell_type": "code",
   "execution_count": 9,
   "id": "654f3605-ce9b-467b-8965-cc7ec037246c",
   "metadata": {},
   "outputs": [
    {
     "data": {
      "text/plain": [
       "{'id': 'data',\n",
       " 'deps': {},\n",
       " 'params': {},\n",
       " 'output': None,\n",
       " 'active': False,\n",
       " 'finalized': True,\n",
       " 'timer': <nodes.decorator.BlockTimer at 0x116a62c90>}"
      ]
     },
     "execution_count": 9,
     "metadata": {},
     "output_type": "execute_result"
    }
   ],
   "source": [
    "nodes[\"data\"].__dict__"
   ]
  },
  {
   "cell_type": "code",
   "execution_count": 10,
   "id": "1cdef8cf-eec5-4ccc-9a47-4a0ecb08aa43",
   "metadata": {},
   "outputs": [],
   "source": [
    "def print_nodes_state(node_layers):\n",
    "    print('######## node state ##########')\n",
    "    for node_layer in node_layers:\n",
    "        print([(nodes[key].active,nodes[key].finalized) for key in node_layer])"
   ]
  },
  {
   "cell_type": "code",
   "execution_count": 11,
   "id": "6bded675-b3ed-43e7-b4ee-57fa00d0c11b",
   "metadata": {},
   "outputs": [],
   "source": [
    "ctx = {}\n",
    "ctx[\"pending_txs\"] = defaultdict(int)"
   ]
  },
  {
   "cell_type": "code",
   "execution_count": 12,
   "id": "f48c7397-c812-41c3-b2fe-17bdc4763b73",
   "metadata": {},
   "outputs": [],
   "source": [
    "async def process_message(block_info):\n",
    "    print(int(block_info[\"number\"], 16))\n",
    "    ctx[\"block_time\"] = int(block_info[\"number\"], 16)\n",
    "    values = {\"block_time\": int(block_info[\"number\"], 16)}\n",
    "    for key in nodes:\n",
    "        if nodes[key].finalized:\n",
    "            nodes[key].active = False\n",
    "        else:\n",
    "            nodes[key].active = True\n",
    "\n",
    "    print_nodes_state(node_layers)\n",
    "    \n",
    "    for node_layer in node_layers:\n",
    "        for key in node_layer:\n",
    "            print(key)\n",
    "            if len(nodes[key].deps) == 0: # no deps/input node\n",
    "                nodes[key].run(ctx, values)\n",
    "            else:\n",
    "                for dep in nodes[key].deps:\n",
    "                    if nodes[nodes[key].deps[dep]].active and nodes[nodes[key].deps[dep]].finalized:\n",
    "                        nodes[key].run(ctx, values)\n",
    "                    elif nodes[key].active:\n",
    "                        nodes[key].run(ctx, values)\n",
    "\n",
    "    print_nodes_state(node_layers)\n",
    "\n",
    "    print(bt.__dict__)\n",
    "    \n",
    "    # for node_layer in node_layers:\n",
    "    #     for key in node_layer:\n",
    "    #         print(nodes[key].__dict__)\n",
    "    print(ctx)"
   ]
  },
  {
   "cell_type": "code",
   "execution_count": 13,
   "id": "4b0900a2-7e69-4b5e-a6bb-9d3f8987bc34",
   "metadata": {},
   "outputs": [],
   "source": [
    "async def message():\n",
    "    async with websockets.connect(cfg.config[\"eth_sepolia_ws_url\"]) as ws:\n",
    "        sub_newheads = { \"id\":1, \"jsonrpc\":\"2.0\", \"method\":\"eth_subscribe\", \"params\":[\"newHeads\"] }\n",
    "        await ws.send(json.dumps(sub_newheads))\n",
    "        sub_res = await ws.recv()\n",
    "        print(json.loads(sub_res))\n",
    "        while True:\n",
    "            message = await asyncio.wait_for(ws.recv(), timeout=60)\n",
    "            block_info = json.loads(message)[\"params\"][\"result\"]\n",
    "            # start = time.time()\n",
    "            await process_message(block_info)\n",
    "            # end = time.time()\n",
    "            # print(end-start)"
   ]
  },
  {
   "cell_type": "code",
   "execution_count": 14,
   "id": "b99d4a64-cc70-449f-b82d-f5d60961afd5",
   "metadata": {
    "scrolled": true
   },
   "outputs": [
    {
     "name": "stdout",
     "output_type": "stream",
     "text": [
      "{'jsonrpc': '2.0', 'id': 1, 'result': '0x9aaade02eb0cad488d22cc297291aa05'}\n",
      "5028337\n",
      "######## node state ##########\n",
      "[(False, True)]\n",
      "[(False, True), (False, True)]\n",
      "[(False, True)]\n",
      "data\n",
      "tx1\n",
      "New transaction. tx1\n",
      "Transaction sent! tx1\n",
      "tx2\n",
      "New transaction. tx2\n",
      "Transaction sent! tx2\n",
      "tx3\n",
      "######## node state ##########\n",
      "[(True, True)]\n",
      "[(True, False), (True, False)]\n",
      "[(False, True)]\n",
      "{'start': 5028341, 'end': 5028386, 'frequency': 5}\n",
      "{'pending_txs': defaultdict(<class 'int'>, {'0x5bA4D4264Bf9A8C3aaF7e1fea6f83f50643A3Fd7': 2}), 'block_time': 5028337}\n",
      "5028338\n",
      "######## node state ##########\n",
      "[(False, True)]\n",
      "[(True, False), (True, False)]\n",
      "[(False, True)]\n",
      "data\n",
      "tx1\n",
      "tx2\n",
      "tx3\n",
      "######## node state ##########\n",
      "[(False, True)]\n",
      "[(True, False), (True, False)]\n",
      "[(False, True)]\n",
      "{'start': 5028341, 'end': 5028386, 'frequency': 5}\n",
      "{'pending_txs': defaultdict(<class 'int'>, {'0x5bA4D4264Bf9A8C3aaF7e1fea6f83f50643A3Fd7': 2}), 'block_time': 5028338}\n",
      "5028339\n",
      "######## node state ##########\n",
      "[(False, True)]\n",
      "[(True, False), (True, False)]\n",
      "[(False, True)]\n",
      "data\n",
      "tx1\n",
      "AttributeDict({'blockHash': HexBytes('0x09ec3e3524c97328fdb5f0a09e4ebaece1598509902a64eff983c5b8139def10'), 'blockNumber': 5028338, 'from': '0x5bA4D4264Bf9A8C3aaF7e1fea6f83f50643A3Fd7', 'gas': 21000, 'gasPrice': 39514440373, 'maxFeePerGas': 201128841785, 'maxPriorityFeePerGas': 1000000000, 'hash': HexBytes('0x42a1afbd4ba1956e1dd769c428ad1f8ed1c759621e86cef1b6d6499d77cd0159'), 'input': HexBytes('0x'), 'nonce': 84, 'to': '0xaf6667a2F847beeca6a6604126Dc28344518840b', 'transactionIndex': 27, 'value': 1000000000000000, 'type': 2, 'accessList': [], 'chainId': 11155111, 'v': 0, 'r': HexBytes('0x0887bd63acf0c97d9662b95ddca0f421ac24b90dc5a9c9be0d7b8dad328f9b09'), 's': HexBytes('0x0f59cd3a1828e8aa9373c8999b6a3358264e82eab5d020b12ebb0f883a251f72'), 'yParity': 0})\n",
      "tx2\n",
      "Transaction with hash: '0x9a8ce4c808b119ceb0cbf0a472005ac1e4cbd59a792b45aad7f3555e6672820f' not found.\n",
      "tx3\n",
      "######## node state ##########\n",
      "[(False, True)]\n",
      "[(True, False), (True, False)]\n",
      "[(False, True)]\n",
      "{'start': 5028341, 'end': 5028386, 'frequency': 5}\n",
      "{'pending_txs': defaultdict(<class 'int'>, {'0x5bA4D4264Bf9A8C3aaF7e1fea6f83f50643A3Fd7': 1}), 'block_time': 5028339}\n",
      "5028340\n",
      "######## node state ##########\n",
      "[(False, True)]\n",
      "[(True, False), (True, False)]\n",
      "[(False, True)]\n",
      "data\n",
      "tx1\n",
      "AttributeDict({'blockHash': HexBytes('0x09ec3e3524c97328fdb5f0a09e4ebaece1598509902a64eff983c5b8139def10'), 'blockNumber': 5028338, 'from': '0x5bA4D4264Bf9A8C3aaF7e1fea6f83f50643A3Fd7', 'gas': 21000, 'gasPrice': 39514440373, 'maxFeePerGas': 201128841785, 'maxPriorityFeePerGas': 1000000000, 'hash': HexBytes('0x42a1afbd4ba1956e1dd769c428ad1f8ed1c759621e86cef1b6d6499d77cd0159'), 'input': HexBytes('0x'), 'nonce': 84, 'to': '0xaf6667a2F847beeca6a6604126Dc28344518840b', 'transactionIndex': 27, 'value': 1000000000000000, 'type': 2, 'accessList': [], 'chainId': 11155111, 'v': 0, 'r': HexBytes('0x0887bd63acf0c97d9662b95ddca0f421ac24b90dc5a9c9be0d7b8dad328f9b09'), 's': HexBytes('0x0f59cd3a1828e8aa9373c8999b6a3358264e82eab5d020b12ebb0f883a251f72'), 'yParity': 0})\n",
      "Transaction finalized. tx1\n",
      "tx2\n",
      "Transaction with hash: '0x9a8ce4c808b119ceb0cbf0a472005ac1e4cbd59a792b45aad7f3555e6672820f' not found.\n",
      "tx3\n",
      "New transaction. tx3\n"
     ]
    },
    {
     "ename": "ValueError",
     "evalue": "{'code': -32000, 'message': 'nonce too low: next nonce 87, tx nonce 86'}",
     "output_type": "error",
     "traceback": [
      "\u001b[0;31m---------------------------------------------------------------------------\u001b[0m",
      "\u001b[0;31mValueError\u001b[0m                                Traceback (most recent call last)",
      "Cell \u001b[0;32mIn[14], line 6\u001b[0m\n\u001b[1;32m      4\u001b[0m loop \u001b[38;5;241m=\u001b[39m asyncio\u001b[38;5;241m.\u001b[39mget_event_loop()\n\u001b[1;32m      5\u001b[0m \u001b[38;5;28;01mwhile\u001b[39;00m \u001b[38;5;28;01mTrue\u001b[39;00m:\n\u001b[0;32m----> 6\u001b[0m     \u001b[43mloop\u001b[49m\u001b[38;5;241;43m.\u001b[39;49m\u001b[43mrun_until_complete\u001b[49m\u001b[43m(\u001b[49m\u001b[43mmessage\u001b[49m\u001b[43m(\u001b[49m\u001b[43m)\u001b[49m\u001b[43m)\u001b[49m\n",
      "File \u001b[0;32m~/pyenv/lib/python3.11/site-packages/nest_asyncio.py:99\u001b[0m, in \u001b[0;36m_patch_loop.<locals>.run_until_complete\u001b[0;34m(self, future)\u001b[0m\n\u001b[1;32m     96\u001b[0m \u001b[38;5;28;01mif\u001b[39;00m \u001b[38;5;129;01mnot\u001b[39;00m f\u001b[38;5;241m.\u001b[39mdone():\n\u001b[1;32m     97\u001b[0m     \u001b[38;5;28;01mraise\u001b[39;00m \u001b[38;5;167;01mRuntimeError\u001b[39;00m(\n\u001b[1;32m     98\u001b[0m         \u001b[38;5;124m'\u001b[39m\u001b[38;5;124mEvent loop stopped before Future completed.\u001b[39m\u001b[38;5;124m'\u001b[39m)\n\u001b[0;32m---> 99\u001b[0m \u001b[38;5;28;01mreturn\u001b[39;00m \u001b[43mf\u001b[49m\u001b[38;5;241;43m.\u001b[39;49m\u001b[43mresult\u001b[49m\u001b[43m(\u001b[49m\u001b[43m)\u001b[49m\n",
      "File \u001b[0;32m/usr/local/Cellar/python@3.11/3.11.6/Frameworks/Python.framework/Versions/3.11/lib/python3.11/asyncio/futures.py:203\u001b[0m, in \u001b[0;36mFuture.result\u001b[0;34m(self)\u001b[0m\n\u001b[1;32m    201\u001b[0m \u001b[38;5;28mself\u001b[39m\u001b[38;5;241m.\u001b[39m__log_traceback \u001b[38;5;241m=\u001b[39m \u001b[38;5;28;01mFalse\u001b[39;00m\n\u001b[1;32m    202\u001b[0m \u001b[38;5;28;01mif\u001b[39;00m \u001b[38;5;28mself\u001b[39m\u001b[38;5;241m.\u001b[39m_exception \u001b[38;5;129;01mis\u001b[39;00m \u001b[38;5;129;01mnot\u001b[39;00m \u001b[38;5;28;01mNone\u001b[39;00m:\n\u001b[0;32m--> 203\u001b[0m     \u001b[38;5;28;01mraise\u001b[39;00m \u001b[38;5;28mself\u001b[39m\u001b[38;5;241m.\u001b[39m_exception\u001b[38;5;241m.\u001b[39mwith_traceback(\u001b[38;5;28mself\u001b[39m\u001b[38;5;241m.\u001b[39m_exception_tb)\n\u001b[1;32m    204\u001b[0m \u001b[38;5;28;01mreturn\u001b[39;00m \u001b[38;5;28mself\u001b[39m\u001b[38;5;241m.\u001b[39m_result\n",
      "File \u001b[0;32m/usr/local/Cellar/python@3.11/3.11.6/Frameworks/Python.framework/Versions/3.11/lib/python3.11/asyncio/tasks.py:277\u001b[0m, in \u001b[0;36mTask.__step\u001b[0;34m(***failed resolving arguments***)\u001b[0m\n\u001b[1;32m    273\u001b[0m \u001b[38;5;28;01mtry\u001b[39;00m:\n\u001b[1;32m    274\u001b[0m     \u001b[38;5;28;01mif\u001b[39;00m exc \u001b[38;5;129;01mis\u001b[39;00m \u001b[38;5;28;01mNone\u001b[39;00m:\n\u001b[1;32m    275\u001b[0m         \u001b[38;5;66;03m# We use the `send` method directly, because coroutines\u001b[39;00m\n\u001b[1;32m    276\u001b[0m         \u001b[38;5;66;03m# don't have `__iter__` and `__next__` methods.\u001b[39;00m\n\u001b[0;32m--> 277\u001b[0m         result \u001b[38;5;241m=\u001b[39m coro\u001b[38;5;241m.\u001b[39msend(\u001b[38;5;28;01mNone\u001b[39;00m)\n\u001b[1;32m    278\u001b[0m     \u001b[38;5;28;01melse\u001b[39;00m:\n\u001b[1;32m    279\u001b[0m         result \u001b[38;5;241m=\u001b[39m coro\u001b[38;5;241m.\u001b[39mthrow(exc)\n",
      "Cell \u001b[0;32mIn[13], line 11\u001b[0m, in \u001b[0;36mmessage\u001b[0;34m()\u001b[0m\n\u001b[1;32m      9\u001b[0m block_info \u001b[38;5;241m=\u001b[39m json\u001b[38;5;241m.\u001b[39mloads(message)[\u001b[38;5;124m\"\u001b[39m\u001b[38;5;124mparams\u001b[39m\u001b[38;5;124m\"\u001b[39m][\u001b[38;5;124m\"\u001b[39m\u001b[38;5;124mresult\u001b[39m\u001b[38;5;124m\"\u001b[39m]\n\u001b[1;32m     10\u001b[0m \u001b[38;5;66;03m# start = time.time()\u001b[39;00m\n\u001b[0;32m---> 11\u001b[0m \u001b[38;5;28;01mawait\u001b[39;00m process_message(block_info)\n",
      "Cell \u001b[0;32mIn[12], line 21\u001b[0m, in \u001b[0;36mprocess_message\u001b[0;34m(block_info)\u001b[0m\n\u001b[1;32m     19\u001b[0m \u001b[38;5;28;01mfor\u001b[39;00m dep \u001b[38;5;129;01min\u001b[39;00m nodes[key]\u001b[38;5;241m.\u001b[39mdeps:\n\u001b[1;32m     20\u001b[0m     \u001b[38;5;28;01mif\u001b[39;00m nodes[nodes[key]\u001b[38;5;241m.\u001b[39mdeps[dep]]\u001b[38;5;241m.\u001b[39mactive \u001b[38;5;129;01mand\u001b[39;00m nodes[nodes[key]\u001b[38;5;241m.\u001b[39mdeps[dep]]\u001b[38;5;241m.\u001b[39mfinalized:\n\u001b[0;32m---> 21\u001b[0m         \u001b[43mnodes\u001b[49m\u001b[43m[\u001b[49m\u001b[43mkey\u001b[49m\u001b[43m]\u001b[49m\u001b[38;5;241;43m.\u001b[39;49m\u001b[43mrun\u001b[49m\u001b[43m(\u001b[49m\u001b[43mctx\u001b[49m\u001b[43m,\u001b[49m\u001b[43m \u001b[49m\u001b[43mvalues\u001b[49m\u001b[43m)\u001b[49m\n\u001b[1;32m     22\u001b[0m     \u001b[38;5;28;01melif\u001b[39;00m nodes[key]\u001b[38;5;241m.\u001b[39mactive:\n\u001b[1;32m     23\u001b[0m         nodes[key]\u001b[38;5;241m.\u001b[39mrun(ctx, values)\n",
      "File \u001b[0;32m~/scripts/onchain/nodes/eth.py:37\u001b[0m, in \u001b[0;36mTxNode.run\u001b[0;34m(self, ctx, values)\u001b[0m\n\u001b[1;32m     35\u001b[0m ctx[\u001b[38;5;124m\"\u001b[39m\u001b[38;5;124mpending_txs\u001b[39m\u001b[38;5;124m\"\u001b[39m][\u001b[38;5;28mself\u001b[39m\u001b[38;5;241m.\u001b[39mwallet] \u001b[38;5;241m+\u001b[39m\u001b[38;5;241m=\u001b[39m \u001b[38;5;241m1\u001b[39m\n\u001b[1;32m     36\u001b[0m transaction \u001b[38;5;241m=\u001b[39m \u001b[38;5;28mself\u001b[39m\u001b[38;5;241m.\u001b[39mw3\u001b[38;5;241m.\u001b[39meth\u001b[38;5;241m.\u001b[39maccount\u001b[38;5;241m.\u001b[39msign_transaction(transaction_params, \u001b[38;5;28mself\u001b[39m\u001b[38;5;241m.\u001b[39mpk)\n\u001b[0;32m---> 37\u001b[0m \u001b[38;5;28mself\u001b[39m\u001b[38;5;241m.\u001b[39mtransaction_hash \u001b[38;5;241m=\u001b[39m \u001b[38;5;28;43mself\u001b[39;49m\u001b[38;5;241;43m.\u001b[39;49m\u001b[43mw3\u001b[49m\u001b[38;5;241;43m.\u001b[39;49m\u001b[43meth\u001b[49m\u001b[38;5;241;43m.\u001b[39;49m\u001b[43msend_raw_transaction\u001b[49m\u001b[43m(\u001b[49m\u001b[43mtransaction\u001b[49m\u001b[38;5;241;43m.\u001b[39;49m\u001b[43mrawTransaction\u001b[49m\u001b[43m)\u001b[49m\n\u001b[1;32m     39\u001b[0m \u001b[38;5;28mprint\u001b[39m(\u001b[38;5;124m'\u001b[39m\u001b[38;5;124mTransaction sent!\u001b[39m\u001b[38;5;124m'\u001b[39m, \u001b[38;5;28mself\u001b[39m\u001b[38;5;241m.\u001b[39mid)\n\u001b[1;32m     40\u001b[0m \u001b[38;5;28mself\u001b[39m\u001b[38;5;241m.\u001b[39mtx_block \u001b[38;5;241m=\u001b[39m ctx[\u001b[38;5;124m\"\u001b[39m\u001b[38;5;124mblock_time\u001b[39m\u001b[38;5;124m\"\u001b[39m]\n",
      "File \u001b[0;32m~/pyenv/lib/python3.11/site-packages/web3/eth/eth.py:373\u001b[0m, in \u001b[0;36mEth.send_raw_transaction\u001b[0;34m(self, transaction)\u001b[0m\n\u001b[1;32m    372\u001b[0m \u001b[38;5;28;01mdef\u001b[39;00m \u001b[38;5;21msend_raw_transaction\u001b[39m(\u001b[38;5;28mself\u001b[39m, transaction: Union[HexStr, \u001b[38;5;28mbytes\u001b[39m]) \u001b[38;5;241m-\u001b[39m\u001b[38;5;241m>\u001b[39m HexBytes:\n\u001b[0;32m--> 373\u001b[0m     \u001b[38;5;28;01mreturn\u001b[39;00m \u001b[38;5;28;43mself\u001b[39;49m\u001b[38;5;241;43m.\u001b[39;49m\u001b[43m_send_raw_transaction\u001b[49m\u001b[43m(\u001b[49m\u001b[43mtransaction\u001b[49m\u001b[43m)\u001b[49m\n",
      "File \u001b[0;32m~/pyenv/lib/python3.11/site-packages/web3/module.py:75\u001b[0m, in \u001b[0;36mretrieve_blocking_method_call_fn.<locals>.caller\u001b[0;34m(*args, **kwargs)\u001b[0m\n\u001b[1;32m     68\u001b[0m     \u001b[38;5;28;01mreturn\u001b[39;00m LogFilter(eth_module\u001b[38;5;241m=\u001b[39mmodule, filter_id\u001b[38;5;241m=\u001b[39merr\u001b[38;5;241m.\u001b[39mfilter_id)\n\u001b[1;32m     70\u001b[0m (\n\u001b[1;32m     71\u001b[0m     result_formatters,\n\u001b[1;32m     72\u001b[0m     error_formatters,\n\u001b[1;32m     73\u001b[0m     null_result_formatters,\n\u001b[1;32m     74\u001b[0m ) \u001b[38;5;241m=\u001b[39m response_formatters\n\u001b[0;32m---> 75\u001b[0m result \u001b[38;5;241m=\u001b[39m \u001b[43mw3\u001b[49m\u001b[38;5;241;43m.\u001b[39;49m\u001b[43mmanager\u001b[49m\u001b[38;5;241;43m.\u001b[39;49m\u001b[43mrequest_blocking\u001b[49m\u001b[43m(\u001b[49m\n\u001b[1;32m     76\u001b[0m \u001b[43m    \u001b[49m\u001b[43mmethod_str\u001b[49m\u001b[43m,\u001b[49m\u001b[43m \u001b[49m\u001b[43mparams\u001b[49m\u001b[43m,\u001b[49m\u001b[43m \u001b[49m\u001b[43merror_formatters\u001b[49m\u001b[43m,\u001b[49m\u001b[43m \u001b[49m\u001b[43mnull_result_formatters\u001b[49m\n\u001b[1;32m     77\u001b[0m \u001b[43m\u001b[49m\u001b[43m)\u001b[49m\n\u001b[1;32m     78\u001b[0m \u001b[38;5;28;01mreturn\u001b[39;00m apply_result_formatters(result_formatters, result)\n",
      "File \u001b[0;32m~/pyenv/lib/python3.11/site-packages/web3/manager.py:325\u001b[0m, in \u001b[0;36mRequestManager.request_blocking\u001b[0;34m(self, method, params, error_formatters, null_result_formatters)\u001b[0m\n\u001b[1;32m    321\u001b[0m \u001b[38;5;250m\u001b[39m\u001b[38;5;124;03m\"\"\"\u001b[39;00m\n\u001b[1;32m    322\u001b[0m \u001b[38;5;124;03mMake a synchronous request using the provider\u001b[39;00m\n\u001b[1;32m    323\u001b[0m \u001b[38;5;124;03m\"\"\"\u001b[39;00m\n\u001b[1;32m    324\u001b[0m response \u001b[38;5;241m=\u001b[39m \u001b[38;5;28mself\u001b[39m\u001b[38;5;241m.\u001b[39m_make_request(method, params)\n\u001b[0;32m--> 325\u001b[0m \u001b[38;5;28;01mreturn\u001b[39;00m \u001b[38;5;28;43mself\u001b[39;49m\u001b[38;5;241;43m.\u001b[39;49m\u001b[43mformatted_response\u001b[49m\u001b[43m(\u001b[49m\n\u001b[1;32m    326\u001b[0m \u001b[43m    \u001b[49m\u001b[43mresponse\u001b[49m\u001b[43m,\u001b[49m\u001b[43m \u001b[49m\u001b[43mparams\u001b[49m\u001b[43m,\u001b[49m\u001b[43m \u001b[49m\u001b[43merror_formatters\u001b[49m\u001b[43m,\u001b[49m\u001b[43m \u001b[49m\u001b[43mnull_result_formatters\u001b[49m\n\u001b[1;32m    327\u001b[0m \u001b[43m\u001b[49m\u001b[43m)\u001b[49m\n",
      "File \u001b[0;32m~/pyenv/lib/python3.11/site-packages/web3/manager.py:288\u001b[0m, in \u001b[0;36mRequestManager.formatted_response\u001b[0;34m(response, params, error_formatters, null_result_formatters)\u001b[0m\n\u001b[1;32m    282\u001b[0m         _raise_bad_response_format(\n\u001b[1;32m    283\u001b[0m             response, \u001b[38;5;124m\"\u001b[39m\u001b[38;5;124merror[\u001b[39m\u001b[38;5;124m'\u001b[39m\u001b[38;5;124mmessage\u001b[39m\u001b[38;5;124m'\u001b[39m\u001b[38;5;124m] must be a string\u001b[39m\u001b[38;5;124m\"\u001b[39m\n\u001b[1;32m    284\u001b[0m         )\n\u001b[1;32m    286\u001b[0m     apply_error_formatters(error_formatters, response)\n\u001b[0;32m--> 288\u001b[0m     \u001b[38;5;28;01mraise\u001b[39;00m \u001b[38;5;167;01mValueError\u001b[39;00m(error)\n\u001b[1;32m    290\u001b[0m \u001b[38;5;66;03m# Format and validate results\u001b[39;00m\n\u001b[1;32m    291\u001b[0m \u001b[38;5;28;01melif\u001b[39;00m \u001b[38;5;124m\"\u001b[39m\u001b[38;5;124mresult\u001b[39m\u001b[38;5;124m\"\u001b[39m \u001b[38;5;129;01min\u001b[39;00m response:\n\u001b[1;32m    292\u001b[0m     \u001b[38;5;66;03m# Null values for result should apply null_result_formatters\u001b[39;00m\n\u001b[1;32m    293\u001b[0m     \u001b[38;5;66;03m# Skip when result not present in the response (fallback to False)\u001b[39;00m\n",
      "\u001b[0;31mValueError\u001b[0m: {'code': -32000, 'message': 'nonce too low: next nonce 87, tx nonce 86'}"
     ]
    }
   ],
   "source": [
    "import nest_asyncio\n",
    "nest_asyncio.apply()\n",
    "\n",
    "loop = asyncio.get_event_loop()\n",
    "while True:\n",
    "    loop.run_until_complete(message())"
   ]
  },
  {
   "cell_type": "code",
   "execution_count": null,
   "id": "fcab7bf4-4cce-42fb-ac80-681415d16443",
   "metadata": {},
   "outputs": [],
   "source": []
  },
  {
   "cell_type": "code",
   "execution_count": null,
   "id": "10122c69-f9fd-4e52-9e2b-33776b59b08d",
   "metadata": {},
   "outputs": [],
   "source": []
  },
  {
   "cell_type": "code",
   "execution_count": null,
   "id": "2b0ed6c7-881d-4e4c-9da1-76d2f48f7006",
   "metadata": {},
   "outputs": [],
   "source": []
  },
  {
   "cell_type": "code",
   "execution_count": null,
   "id": "b35838da-c7a6-4de0-81f0-c1b4e801014e",
   "metadata": {},
   "outputs": [],
   "source": []
  },
  {
   "cell_type": "code",
   "execution_count": null,
   "id": "7262b24d-e14e-48f2-9c67-f439e99bb50a",
   "metadata": {},
   "outputs": [],
   "source": []
  },
  {
   "cell_type": "code",
   "execution_count": null,
   "id": "7493640b-7c60-40ba-8483-49b32e4e1a59",
   "metadata": {},
   "outputs": [],
   "source": []
  },
  {
   "cell_type": "code",
   "execution_count": null,
   "id": "d33aeb9d-9cc0-4be1-ac1d-13cd0564df6f",
   "metadata": {},
   "outputs": [],
   "source": []
  },
  {
   "cell_type": "code",
   "execution_count": null,
   "id": "2e6377ff-d0c6-449c-9a45-3cc400f828df",
   "metadata": {},
   "outputs": [],
   "source": []
  },
  {
   "cell_type": "code",
   "execution_count": null,
   "id": "66ef7fbe-455c-422c-bdbb-28fd87cb83f1",
   "metadata": {},
   "outputs": [],
   "source": []
  }
 ],
 "metadata": {
  "kernelspec": {
   "display_name": "Python 3 (ipykernel)",
   "language": "python",
   "name": "python3"
  },
  "language_info": {
   "codemirror_mode": {
    "name": "ipython",
    "version": 3
   },
   "file_extension": ".py",
   "mimetype": "text/x-python",
   "name": "python",
   "nbconvert_exporter": "python",
   "pygments_lexer": "ipython3",
   "version": "3.11.6"
  }
 },
 "nbformat": 4,
 "nbformat_minor": 5
}
