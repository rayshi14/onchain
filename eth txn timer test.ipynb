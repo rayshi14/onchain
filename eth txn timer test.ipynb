{
 "cells": [
  {
   "cell_type": "code",
   "execution_count": 1,
   "id": "3d34445d-dcd7-45c5-8d92-4d8862216839",
   "metadata": {},
   "outputs": [],
   "source": [
    "import asyncio\n",
    "import websockets\n",
    "import json\n",
    "import time\n",
    "\n",
    "import sys\n",
    "sys.path.append(\"./chainklik\")\n",
    "import pandas as pd\n",
    "import requests\n",
    "from web3 import Web3\n",
    "from collections import defaultdict \n",
    "\n",
    "import libs.common.utils as utils\n",
    "import libs.common.payload as payload\n",
    "import config.config as cfg\n",
    "from nodes.data import *\n",
    "from nodes.eth import *\n",
    "from nodes.condition import *\n",
    "from nodes.computation import *"
   ]
  },
  {
   "cell_type": "code",
   "execution_count": 2,
   "id": "3c3c2dfd-870c-4535-9f4b-a33bdb0f1617",
   "metadata": {},
   "outputs": [],
   "source": [
    "# Connect to an Ethereum node\n",
    "w3 = Web3(Web3.HTTPProvider(cfg.config[\"eth_sepolia_http_url\"]))\n",
    "\n",
    "# Set sender and recipient addresses\n",
    "sender_address = '0x5bA4D4264Bf9A8C3aaF7e1fea6f83f50643A3Fd7'\n",
    "recipient_address = '0xaf6667a2F847beeca6a6604126Dc28344518840b'\n",
    "\n",
    "# Set private key for the sender's account. \n",
    "private_key = '1dab201501e8b882ca3413edcdfed263e4834cd8ea4c9586aca7fb699c51d681'"
   ]
  },
  {
   "cell_type": "code",
   "execution_count": 3,
   "id": "f5d042ec-5a04-4526-88db-591ca02e2cc8",
   "metadata": {},
   "outputs": [
    {
     "name": "stdout",
     "output_type": "stream",
     "text": [
      "The balance of 0x5bA4D4264Bf9A8C3aaF7e1fea6f83f50643A3Fd7 is: 0.236594650120721 ETH\n",
      "The balance of 0xaf6667a2F847beeca6a6604126Dc28344518840b is: 0.2055 ETH\n"
     ]
    }
   ],
   "source": [
    "balance_sender = w3.from_wei(w3.eth.get_balance(sender_address), 'ether')\n",
    "balance_recipient = w3.from_wei(w3.eth.get_balance(recipient_address), 'ether')\n",
    "\n",
    "print(f'The balance of { sender_address } is: { balance_sender } ETH')\n",
    "print(f'The balance of { recipient_address } is: { balance_recipient } ETH')"
   ]
  },
  {
   "cell_type": "code",
   "execution_count": 4,
   "id": "80d2094e-b7cd-4ba1-a298-29ebb321037f",
   "metadata": {},
   "outputs": [
    {
     "data": {
      "text/plain": [
       "5033110"
      ]
     },
     "execution_count": 4,
     "metadata": {},
     "output_type": "execute_result"
    }
   ],
   "source": [
    "w3.eth.get_block(\"latest\")[\"number\"]"
   ]
  },
  {
   "cell_type": "code",
   "execution_count": 5,
   "id": "acbaa2a0-9b6a-42d5-8c5a-a8a235117d86",
   "metadata": {},
   "outputs": [],
   "source": [
    "bt = BlockTimer(w3.eth.get_block(\"latest\")[\"number\"], w3.eth.get_block(\"latest\")[\"number\"]+50, 10)\n",
    "data_node = DataNode(\"data\", {}, {}, bt)"
   ]
  },
  {
   "cell_type": "code",
   "execution_count": 6,
   "id": "76ee4449-fc2b-4878-9bfb-5991ef05c67e",
   "metadata": {},
   "outputs": [],
   "source": [
    "tx_node1 = TxNode(\"tx1\",{\"in\":\"data\"},{\"wallet\":sender_address,\"to\":recipient_address,\"amount\":0.001}, w3, private_key)\n",
    "tx_node2 = TxNode(\"tx2\",{\"in\":\"data\"},{\"wallet\":sender_address,\"to\":recipient_address,\"amount\":0.002}, w3, private_key)"
   ]
  },
  {
   "cell_type": "code",
   "execution_count": 7,
   "id": "41e329f2-0005-40e2-8f86-b886ef6945f9",
   "metadata": {},
   "outputs": [],
   "source": [
    "cum_node = CumNode(\"cum\",{\"in\":\"tx1\"},{})"
   ]
  },
  {
   "cell_type": "code",
   "execution_count": 8,
   "id": "49e0c074-7688-4ffe-95d0-2b23b17d7ecf",
   "metadata": {},
   "outputs": [],
   "source": [
    "comp_node = ThresholdNode(\"comp\",{\"in\":\"cum\"},{\"th\":0.002,\"condition\":\"ge\"})"
   ]
  },
  {
   "cell_type": "code",
   "execution_count": 9,
   "id": "f8de2e68-fe34-4299-a04e-fbf7d29d2172",
   "metadata": {},
   "outputs": [],
   "source": [
    "tx_node3 = TxNode(\"tx3\",{\"in\":\"comp\"},{\"wallet\":sender_address,\"to\":recipient_address,\"amount\":0.003}, w3, private_key)"
   ]
  },
  {
   "cell_type": "code",
   "execution_count": 10,
   "id": "1e7beb09-2d0b-41d4-b34c-a94133fa00c3",
   "metadata": {},
   "outputs": [],
   "source": [
    "node_layers = [\n",
    "    [\"data\"],\n",
    "    [\"tx1\", \"tx2\"],\n",
    "    [\"cum\"],\n",
    "    [\"comp\"],\n",
    "    [\"tx3\"]\n",
    "]"
   ]
  },
  {
   "cell_type": "code",
   "execution_count": 11,
   "id": "6c2a5a10-fe15-4f31-b5e1-10e7b77b96a1",
   "metadata": {},
   "outputs": [],
   "source": [
    "nodes = {\n",
    "    \"data\": data_node, \n",
    "    \"tx1\": tx_node1,\n",
    "    \"tx2\": tx_node2,\n",
    "    \"cum\": cum_node,\n",
    "    \"comp\": comp_node,\n",
    "    \"tx3\": tx_node3\n",
    "}"
   ]
  },
  {
   "cell_type": "code",
   "execution_count": 12,
   "id": "654f3605-ce9b-467b-8965-cc7ec037246c",
   "metadata": {},
   "outputs": [
    {
     "data": {
      "text/plain": [
       "{'id': 'comp',\n",
       " 'deps': {'in': 'cum'},\n",
       " 'params': {'th': 0.002, 'condition': 'ge'},\n",
       " 'output': None,\n",
       " 'active': False,\n",
       " 'finalized': True}"
      ]
     },
     "execution_count": 12,
     "metadata": {},
     "output_type": "execute_result"
    }
   ],
   "source": [
    "nodes[\"comp\"].__dict__"
   ]
  },
  {
   "cell_type": "code",
   "execution_count": 13,
   "id": "1cdef8cf-eec5-4ccc-9a47-4a0ecb08aa43",
   "metadata": {},
   "outputs": [],
   "source": [
    "def print_nodes_state(node_layers):\n",
    "    print('######## node state ##########')\n",
    "    for node_layer in node_layers:\n",
    "        print([(nodes[key].active,nodes[key].finalized,nodes[key].output) for key in node_layer])"
   ]
  },
  {
   "cell_type": "code",
   "execution_count": 14,
   "id": "6bded675-b3ed-43e7-b4ee-57fa00d0c11b",
   "metadata": {},
   "outputs": [],
   "source": [
    "ctx = {}\n",
    "values = {}"
   ]
  },
  {
   "cell_type": "code",
   "execution_count": 15,
   "id": "f48c7397-c812-41c3-b2fe-17bdc4763b73",
   "metadata": {},
   "outputs": [],
   "source": [
    "async def process_message(block_info):\n",
    "    ctx[\"block_time\"] = int(block_info[\"number\"], 16)\n",
    "    print(ctx)\n",
    "    \n",
    "    for key in nodes:\n",
    "        if nodes[key].finalized:\n",
    "            nodes[key].active = False\n",
    "        else:\n",
    "            nodes[key].active = True\n",
    "\n",
    "    print_nodes_state(node_layers)\n",
    "    \n",
    "    for node_layer in node_layers:\n",
    "        for key in node_layer:\n",
    "            print(key)\n",
    "            if len(nodes[key].deps) == 0: # no deps/input node\n",
    "                nodes[key].run(ctx, values)\n",
    "            else:\n",
    "                is_deps_finalized = True\n",
    "                is_deps_active = False\n",
    "                for dep in nodes[key].deps:\n",
    "                    is_deps_finalized = is_deps_finalized and nodes[nodes[key].deps[dep]].finalized\n",
    "                    is_deps_active = is_deps_active or nodes[nodes[key].deps[dep]].active\n",
    "                    values[dep] = nodes[nodes[key].deps[dep]].output\n",
    "\n",
    "                if is_deps_finalized and is_deps_active:\n",
    "                    nodes[key].run(ctx, values)\n",
    "                elif nodes[key].active:\n",
    "                    nodes[key].run(ctx, values)\n",
    "            values[key] = nodes[key].output\n",
    "    \n",
    "    print_nodes_state(node_layers)\n",
    "\n",
    "    print(bt.__dict__)\n",
    "    \n",
    "    # for node_layer in node_layers:\n",
    "    #     for key in node_layer:\n",
    "    #         print(nodes[key].__dict__)\n",
    "    "
   ]
  },
  {
   "cell_type": "code",
   "execution_count": 16,
   "id": "4b0900a2-7e69-4b5e-a6bb-9d3f8987bc34",
   "metadata": {},
   "outputs": [],
   "source": [
    "async def message():\n",
    "    async with websockets.connect(cfg.config[\"eth_sepolia_ws_url\"]) as ws:\n",
    "        sub_newheads = { \"id\":1, \"jsonrpc\":\"2.0\", \"method\":\"eth_subscribe\", \"params\":[\"newHeads\"] }\n",
    "        await ws.send(json.dumps(sub_newheads))\n",
    "        sub_res = await ws.recv()\n",
    "        print(json.loads(sub_res))\n",
    "        while True:\n",
    "            message = await asyncio.wait_for(ws.recv(), timeout=60)\n",
    "            block_info = json.loads(message)[\"params\"][\"result\"]\n",
    "            # start = time.time()\n",
    "            await process_message(block_info)\n",
    "            # end = time.time()\n",
    "            # print(end-start)"
   ]
  },
  {
   "cell_type": "code",
   "execution_count": null,
   "id": "b99d4a64-cc70-449f-b82d-f5d60961afd5",
   "metadata": {},
   "outputs": [
    {
     "name": "stdout",
     "output_type": "stream",
     "text": [
      "{'jsonrpc': '2.0', 'id': 1, 'result': '0xe3465d68d561984920acde6383dfe440'}\n",
      "{'block_time': 5033111}\n",
      "######## node state ##########\n",
      "[(False, True, None)]\n",
      "[(False, True, 0.001), (False, True, 0.002)]\n",
      "[(False, True, 0)]\n",
      "[(False, True, None)]\n",
      "[(False, True, 0.003)]\n",
      "data\n",
      "tx1\n",
      "New transaction. tx1\n",
      "Transaction successful! tx1\n",
      "tx2\n",
      "New transaction. tx2\n",
      "Transaction successful! tx2\n",
      "cum\n",
      "comp\n",
      "tx3\n",
      "######## node state ##########\n",
      "[(True, True, {'data': {...}, 'in': None, 'tx1': 0.001, 'tx2': 0.002, 'cum': 0, 'comp': None, 'tx3': 0.003})]\n",
      "[(True, False, 0.001), (True, False, 0.002)]\n",
      "[(False, True, 0)]\n",
      "[(False, True, None)]\n",
      "[(False, True, 0.003)]\n",
      "{'start': 5033120, 'end': 5033160, 'frequency': 10}\n",
      "{'block_time': 5033112}\n",
      "######## node state ##########\n",
      "[(False, True, {'data': {...}, 'in': None, 'tx1': 0.001, 'tx2': 0.002, 'cum': 0, 'comp': None, 'tx3': 0.003})]\n",
      "[(True, False, 0.001), (True, False, 0.002)]\n",
      "[(False, True, 0)]\n",
      "[(False, True, None)]\n",
      "[(False, True, 0.003)]\n",
      "data\n",
      "tx1\n",
      "tx2\n",
      "cum\n",
      "comp\n",
      "tx3\n",
      "######## node state ##########\n",
      "[(False, True, {'data': {...}, 'in': None, 'tx1': 0.001, 'tx2': 0.002, 'cum': 0, 'comp': None, 'tx3': 0.003})]\n",
      "[(True, False, 0.001), (True, False, 0.002)]\n",
      "[(False, True, 0)]\n",
      "[(False, True, None)]\n",
      "[(False, True, 0.003)]\n",
      "{'start': 5033120, 'end': 5033160, 'frequency': 10}\n",
      "{'block_time': 5033113}\n",
      "######## node state ##########\n",
      "[(False, True, {'data': {...}, 'in': None, 'tx1': 0.001, 'tx2': 0.002, 'cum': 0, 'comp': None, 'tx3': 0.003})]\n",
      "[(True, False, 0.001), (True, False, 0.002)]\n",
      "[(False, True, 0)]\n",
      "[(False, True, None)]\n",
      "[(False, True, 0.003)]\n",
      "data\n",
      "tx1\n",
      "tx2\n",
      "cum\n",
      "comp\n",
      "tx3\n",
      "######## node state ##########\n",
      "[(False, True, {'data': {...}, 'in': None, 'tx1': 0.001, 'tx2': 0.002, 'cum': 0, 'comp': None, 'tx3': 0.003})]\n",
      "[(True, False, 0.001), (True, False, 0.002)]\n",
      "[(False, True, 0)]\n",
      "[(False, True, None)]\n",
      "[(False, True, 0.003)]\n",
      "{'start': 5033120, 'end': 5033160, 'frequency': 10}\n",
      "{'block_time': 5033114}\n",
      "######## node state ##########\n",
      "[(False, True, {'data': {...}, 'in': None, 'tx1': 0.001, 'tx2': 0.002, 'cum': 0, 'comp': None, 'tx3': 0.003})]\n",
      "[(True, False, 0.001), (True, False, 0.002)]\n",
      "[(False, True, 0)]\n",
      "[(False, True, None)]\n",
      "[(False, True, 0.003)]\n",
      "data\n",
      "tx1\n",
      "Transaction finalized. tx1\n",
      "tx2\n",
      "cum\n",
      "comp\n",
      "tx3\n",
      "######## node state ##########\n",
      "[(False, True, {'data': {...}, 'in': None, 'tx1': 0.001, 'tx2': 0.002, 'cum': 0.001, 'comp': None, 'tx3': 0.003})]\n",
      "[(True, True, 0.001), (True, False, 0.002)]\n",
      "[(True, True, 0.001)]\n",
      "[(False, True, None)]\n",
      "[(False, True, 0.003)]\n",
      "{'start': 5033120, 'end': 5033160, 'frequency': 10}\n",
      "{'block_time': 5033115}\n",
      "######## node state ##########\n",
      "[(False, True, {'data': {...}, 'in': None, 'tx1': 0.001, 'tx2': 0.002, 'cum': 0.001, 'comp': None, 'tx3': 0.003})]\n",
      "[(False, True, 0.001), (True, False, 0.002)]\n",
      "[(False, True, 0.001)]\n",
      "[(False, True, None)]\n",
      "[(False, True, 0.003)]\n",
      "data\n",
      "tx1\n",
      "tx2\n",
      "Transaction finalized. tx2\n",
      "cum\n",
      "comp\n",
      "tx3\n",
      "######## node state ##########\n",
      "[(False, True, {'data': {...}, 'in': None, 'tx1': 0.001, 'tx2': 0.002, 'cum': 0.001, 'comp': None, 'tx3': 0.003})]\n",
      "[(False, True, 0.001), (True, True, 0.002)]\n",
      "[(False, True, 0.001)]\n",
      "[(False, True, None)]\n",
      "[(False, True, 0.003)]\n",
      "{'start': 5033120, 'end': 5033160, 'frequency': 10}\n",
      "{'block_time': 5033116}\n",
      "######## node state ##########\n",
      "[(False, True, {'data': {...}, 'in': None, 'tx1': 0.001, 'tx2': 0.002, 'cum': 0.001, 'comp': None, 'tx3': 0.003})]\n",
      "[(False, True, 0.001), (False, True, 0.002)]\n",
      "[(False, True, 0.001)]\n",
      "[(False, True, None)]\n",
      "[(False, True, 0.003)]\n",
      "data\n",
      "tx1\n",
      "tx2\n",
      "cum\n",
      "comp\n",
      "tx3\n",
      "######## node state ##########\n",
      "[(False, True, {'data': {...}, 'in': None, 'tx1': 0.001, 'tx2': 0.002, 'cum': 0.001, 'comp': None, 'tx3': 0.003})]\n",
      "[(False, True, 0.001), (False, True, 0.002)]\n",
      "[(False, True, 0.001)]\n",
      "[(False, True, None)]\n",
      "[(False, True, 0.003)]\n",
      "{'start': 5033120, 'end': 5033160, 'frequency': 10}\n",
      "{'block_time': 5033117}\n",
      "######## node state ##########\n",
      "[(False, True, {'data': {...}, 'in': None, 'tx1': 0.001, 'tx2': 0.002, 'cum': 0.001, 'comp': None, 'tx3': 0.003})]\n",
      "[(False, True, 0.001), (False, True, 0.002)]\n",
      "[(False, True, 0.001)]\n",
      "[(False, True, None)]\n",
      "[(False, True, 0.003)]\n",
      "data\n",
      "tx1\n",
      "tx2\n",
      "cum\n",
      "comp\n",
      "tx3\n",
      "######## node state ##########\n",
      "[(False, True, {'data': {...}, 'in': None, 'tx1': 0.001, 'tx2': 0.002, 'cum': 0.001, 'comp': None, 'tx3': 0.003})]\n",
      "[(False, True, 0.001), (False, True, 0.002)]\n",
      "[(False, True, 0.001)]\n",
      "[(False, True, None)]\n",
      "[(False, True, 0.003)]\n",
      "{'start': 5033120, 'end': 5033160, 'frequency': 10}\n",
      "{'block_time': 5033118}\n",
      "######## node state ##########\n",
      "[(False, True, {'data': {...}, 'in': None, 'tx1': 0.001, 'tx2': 0.002, 'cum': 0.001, 'comp': None, 'tx3': 0.003})]\n",
      "[(False, True, 0.001), (False, True, 0.002)]\n",
      "[(False, True, 0.001)]\n",
      "[(False, True, None)]\n",
      "[(False, True, 0.003)]\n",
      "data\n",
      "tx1\n",
      "tx2\n",
      "cum\n",
      "comp\n",
      "tx3\n",
      "######## node state ##########\n",
      "[(False, True, {'data': {...}, 'in': None, 'tx1': 0.001, 'tx2': 0.002, 'cum': 0.001, 'comp': None, 'tx3': 0.003})]\n",
      "[(False, True, 0.001), (False, True, 0.002)]\n",
      "[(False, True, 0.001)]\n",
      "[(False, True, None)]\n",
      "[(False, True, 0.003)]\n",
      "{'start': 5033120, 'end': 5033160, 'frequency': 10}\n",
      "{'block_time': 5033119}\n",
      "######## node state ##########\n",
      "[(False, True, {'data': {...}, 'in': None, 'tx1': 0.001, 'tx2': 0.002, 'cum': 0.001, 'comp': None, 'tx3': 0.003})]\n",
      "[(False, True, 0.001), (False, True, 0.002)]\n",
      "[(False, True, 0.001)]\n",
      "[(False, True, None)]\n",
      "[(False, True, 0.003)]\n",
      "data\n",
      "tx1\n",
      "tx2\n",
      "cum\n",
      "comp\n",
      "tx3\n",
      "######## node state ##########\n",
      "[(False, True, {'data': {...}, 'in': None, 'tx1': 0.001, 'tx2': 0.002, 'cum': 0.001, 'comp': None, 'tx3': 0.003})]\n",
      "[(False, True, 0.001), (False, True, 0.002)]\n",
      "[(False, True, 0.001)]\n",
      "[(False, True, None)]\n",
      "[(False, True, 0.003)]\n",
      "{'start': 5033120, 'end': 5033160, 'frequency': 10}\n",
      "{'block_time': 5033120}\n",
      "######## node state ##########\n",
      "[(False, True, {'data': {...}, 'in': None, 'tx1': 0.001, 'tx2': 0.002, 'cum': 0.001, 'comp': None, 'tx3': 0.003})]\n",
      "[(False, True, 0.001), (False, True, 0.002)]\n",
      "[(False, True, 0.001)]\n",
      "[(False, True, None)]\n",
      "[(False, True, 0.003)]\n",
      "data\n",
      "tx1\n",
      "New transaction. tx1\n"
     ]
    }
   ],
   "source": [
    "import nest_asyncio\n",
    "nest_asyncio.apply()\n",
    "\n",
    "loop = asyncio.get_event_loop()\n",
    "while True:\n",
    "    loop.run_until_complete(message())"
   ]
  },
  {
   "cell_type": "code",
   "execution_count": null,
   "id": "fcab7bf4-4cce-42fb-ac80-681415d16443",
   "metadata": {},
   "outputs": [],
   "source": []
  },
  {
   "cell_type": "code",
   "execution_count": null,
   "id": "10122c69-f9fd-4e52-9e2b-33776b59b08d",
   "metadata": {},
   "outputs": [],
   "source": []
  },
  {
   "cell_type": "code",
   "execution_count": null,
   "id": "2b0ed6c7-881d-4e4c-9da1-76d2f48f7006",
   "metadata": {},
   "outputs": [],
   "source": []
  },
  {
   "cell_type": "code",
   "execution_count": null,
   "id": "b35838da-c7a6-4de0-81f0-c1b4e801014e",
   "metadata": {},
   "outputs": [],
   "source": []
  },
  {
   "cell_type": "code",
   "execution_count": null,
   "id": "7262b24d-e14e-48f2-9c67-f439e99bb50a",
   "metadata": {},
   "outputs": [],
   "source": []
  },
  {
   "cell_type": "code",
   "execution_count": null,
   "id": "7493640b-7c60-40ba-8483-49b32e4e1a59",
   "metadata": {},
   "outputs": [],
   "source": []
  },
  {
   "cell_type": "code",
   "execution_count": null,
   "id": "d33aeb9d-9cc0-4be1-ac1d-13cd0564df6f",
   "metadata": {},
   "outputs": [],
   "source": []
  },
  {
   "cell_type": "code",
   "execution_count": null,
   "id": "2e6377ff-d0c6-449c-9a45-3cc400f828df",
   "metadata": {},
   "outputs": [],
   "source": []
  },
  {
   "cell_type": "code",
   "execution_count": null,
   "id": "66ef7fbe-455c-422c-bdbb-28fd87cb83f1",
   "metadata": {},
   "outputs": [],
   "source": []
  }
 ],
 "metadata": {
  "kernelspec": {
   "display_name": "Python 3 (ipykernel)",
   "language": "python",
   "name": "python3"
  },
  "language_info": {
   "codemirror_mode": {
    "name": "ipython",
    "version": 3
   },
   "file_extension": ".py",
   "mimetype": "text/x-python",
   "name": "python",
   "nbconvert_exporter": "python",
   "pygments_lexer": "ipython3",
   "version": "3.11.6"
  }
 },
 "nbformat": 4,
 "nbformat_minor": 5
}
