{
 "cells": [
  {
   "cell_type": "code",
   "execution_count": 1,
   "id": "3f2574c4",
   "metadata": {},
   "outputs": [],
   "source": [
    "import requests\n",
    "from web3 import Web3\n",
    "\n",
    "import libs.common.utils as utils\n",
    "import libs.aave.api as aave_api\n",
    "import libs.common.payload as payload"
   ]
  },
  {
   "cell_type": "code",
   "execution_count": 2,
   "id": "5f660cbe",
   "metadata": {},
   "outputs": [],
   "source": [
    "node_url = \"https://stylish-wider-patina.quiknode.pro/274049e810f4dee5f0807cd426196aeafd438838/\""
   ]
  },
  {
   "cell_type": "code",
   "execution_count": 3,
   "id": "ad9b0d35",
   "metadata": {},
   "outputs": [],
   "source": [
    "w3 = Web3(Web3.HTTPProvider(node_url))"
   ]
  },
  {
   "cell_type": "code",
   "execution_count": 4,
   "id": "e6b69997",
   "metadata": {},
   "outputs": [],
   "source": [
    "pool = aave_api.PoolV2()"
   ]
  },
  {
   "cell_type": "code",
   "execution_count": 5,
   "id": "44491df8",
   "metadata": {},
   "outputs": [],
   "source": [
    "# totalCollateralETH uint256, totalDebtETH uint256, availableBorrowsETH uint256, currentLiquidationThreshold uint256, ltv uint256, healthFactor uint256\n",
    "user_account_data = pool.get_user_account(\"0x1111567E0954E74f6bA7c4732D534e75B81DC42E\",18000000)"
   ]
  },
  {
   "cell_type": "code",
   "execution_count": 6,
   "id": "10470d08",
   "metadata": {},
   "outputs": [
    {
     "data": {
      "text/plain": [
       "UserAccountData(totalCollateralETH=30621.29369300413, totalDebtETH=23900.550978949555, availableBorrowsETH=1362.0163177788493, currentLiquidationThreshold=8600, ltv=8250, healthFactor=1.1018286816558134)"
      ]
     },
     "execution_count": 6,
     "metadata": {},
     "output_type": "execute_result"
    }
   ],
   "source": [
    "user_account_data"
   ]
  },
  {
   "cell_type": "code",
   "execution_count": 7,
   "id": "53ce087f",
   "metadata": {},
   "outputs": [],
   "source": [
    "reserve_data = pool.get_reserve_data(\"0x2260FAC5E5542a773Aa44fBCfeDf7C193bc2C599\",18000000)"
   ]
  },
  {
   "cell_type": "code",
   "execution_count": 8,
   "id": "9581be9f",
   "metadata": {},
   "outputs": [
    {
     "data": {
      "text/plain": [
       "{'reserve_config': ReserveConfig(ltv=7200, liqThreshold=8200, liqBonus=10500, decimals=8, active=1, frozen=0, borrowEnabled=1, stableRateEnabled=1, reserved=0, reserveFactor=2500),\n",
       " 'liquidity_index': 1.003865029656007,\n",
       " 'variable_borrow_index': 1.0242610539797028,\n",
       " 'current_liquidity_rate': 0.0015618855834529247,\n",
       " 'current_variable_borrow_rate': 0.009517529643936441,\n",
       " 'current_stable_borrow_rate': 0.0537938241098411,\n",
       " 'last_update_timestamp': 1693063523,\n",
       " 'aToken_address': '0x9ff58f4fFB29fA2266Ab25e75e2A8b3503311656',\n",
       " 'stable_debt_token_address': '0x51B039b9AFE64B78758f8Ef091211b5387eA717c',\n",
       " 'variable_debt_token_address': '0x9c39809Dec7F95F5e0713634a4D0701329B3b4d2',\n",
       " 'interest_rate_strategy_address': '0x32f3A6134590fc2d9440663d35a2F0a6265F04c4',\n",
       " 'id': 1}"
      ]
     },
     "execution_count": 8,
     "metadata": {},
     "output_type": "execute_result"
    }
   ],
   "source": [
    "reserve_data.__dict__"
   ]
  },
  {
   "cell_type": "code",
   "execution_count": 10,
   "id": "caa2edfe",
   "metadata": {},
   "outputs": [
    {
     "data": {
      "text/plain": [
       "1.0041654049761402"
      ]
     },
     "execution_count": 10,
     "metadata": {},
     "output_type": "execute_result"
    }
   ],
   "source": [
    "1004165404976140261878192802/1e27"
   ]
  }
 ],
 "metadata": {
  "kernelspec": {
   "display_name": "Python 3 (ipykernel)",
   "language": "python",
   "name": "python3"
  },
  "language_info": {
   "codemirror_mode": {
    "name": "ipython",
    "version": 3
   },
   "file_extension": ".py",
   "mimetype": "text/x-python",
   "name": "python",
   "nbconvert_exporter": "python",
   "pygments_lexer": "ipython3",
   "version": "3.9.13"
  }
 },
 "nbformat": 4,
 "nbformat_minor": 5
}
