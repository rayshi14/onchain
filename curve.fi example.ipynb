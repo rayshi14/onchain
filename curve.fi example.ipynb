{
 "cells": [
  {
   "cell_type": "code",
   "execution_count": 1,
   "id": "a1766dec",
   "metadata": {},
   "outputs": [],
   "source": [
    "import requests\n",
    "import web3\n",
    "import pandas as pd\n",
    "\n",
    "import libs.common.utils as utils\n",
    "import libs.aave.api as aave_api\n",
    "import libs.common.payload as payload\n",
    "import libs.common.etherscan as es\n",
    "import config.config as cfg"
   ]
  },
  {
   "cell_type": "code",
   "execution_count": 2,
   "id": "7f611e48",
   "metadata": {},
   "outputs": [],
   "source": [
    "ws = web3.Web3(web3.Web3.HTTPProvider(cfg.config[\"http_url\"]))"
   ]
  },
  {
   "cell_type": "code",
   "execution_count": 3,
   "id": "dbd46a41",
   "metadata": {},
   "outputs": [],
   "source": [
    "contract_address = \"0xbEbc44782C7dB0a1A60Cb6fe97d0b483032FF1C7\"\n",
    "function_sig = \"coins(uint256)\""
   ]
  },
  {
   "cell_type": "code",
   "execution_count": 4,
   "id": "8cdd3975",
   "metadata": {},
   "outputs": [
    {
     "data": {
      "text/plain": [
       "{'jsonrpc': '2.0',\n",
       " 'id': 0,\n",
       " 'result': '0x0000000000000000000000006b175474e89094c44da98b954eedeac495271d0f'}"
      ]
     },
     "execution_count": 4,
     "metadata": {},
     "output_type": "execute_result"
    }
   ],
   "source": [
    "val = payload.func_call_payload(0, contract_address, function_sig, hex(18000000), [0])\n",
    "resp = requests.post(cfg.config[\"http_url\"], json=val)\n",
    "resp.json()"
   ]
  },
  {
   "cell_type": "code",
   "execution_count": 5,
   "id": "8fcecebe",
   "metadata": {},
   "outputs": [],
   "source": [
    "val = payload.func_call_payload(0, contract_address, \"get_dy(int128,int128,uint256)\", hex(18000000), [1,2,100000])\n",
    "resp = requests.post(cfg.config[\"http_url\"], json=val)\n",
    "assert int(resp.json()['result'],16) == 100052"
   ]
  },
  {
   "cell_type": "code",
   "execution_count": 6,
   "id": "c596628f",
   "metadata": {},
   "outputs": [],
   "source": [
    "token_address = \"0xD533a949740bb3306d119CC777fa900bA034cd52\""
   ]
  },
  {
   "cell_type": "code",
   "execution_count": 7,
   "id": "6d558aaf",
   "metadata": {},
   "outputs": [
    {
     "data": {
      "text/plain": [
       "18"
      ]
     },
     "execution_count": 7,
     "metadata": {},
     "output_type": "execute_result"
    }
   ],
   "source": [
    "val = payload.func_call_payload(0, token_address, \"decimals()\", hex(18000000), [])\n",
    "resp = requests.post(cfg.config[\"http_url\"], json=val)\n",
    "int(resp.json()['result'],16)"
   ]
  },
  {
   "cell_type": "code",
   "execution_count": 8,
   "id": "332438e6",
   "metadata": {},
   "outputs": [],
   "source": [
    "# data api\n",
    "# contract api - contract/function&params\n",
    "# event api - \n",
    "# block trigger\n",
    "# 1. download and parse all events/txns\n",
    "# 2. query events/txns of interest\n",
    "# 3. query contract/functions of interest\n",
    "# 4. send all to down stream"
   ]
  },
  {
   "cell_type": "code",
   "execution_count": null,
   "id": "8d8bb4d7",
   "metadata": {},
   "outputs": [],
   "source": []
  }
 ],
 "metadata": {
  "kernelspec": {
   "display_name": "Python 3 (ipykernel)",
   "language": "python",
   "name": "python3"
  },
  "language_info": {
   "codemirror_mode": {
    "name": "ipython",
    "version": 3
   },
   "file_extension": ".py",
   "mimetype": "text/x-python",
   "name": "python",
   "nbconvert_exporter": "python",
   "pygments_lexer": "ipython3",
   "version": "3.9.13"
  }
 },
 "nbformat": 4,
 "nbformat_minor": 5
}
