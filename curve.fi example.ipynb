{
 "cells": [
  {
   "cell_type": "code",
   "execution_count": 12,
   "id": "a1766dec",
   "metadata": {},
   "outputs": [],
   "source": [
    "import requests\n",
    "import web3\n",
    "import pandas as pd\n",
    "\n",
    "import libs.common.utils as utils\n",
    "import libs.aave.api as aave_api\n",
    "import libs.common.payload as payload\n",
    "import libs.common.etherscan as es"
   ]
  },
  {
   "cell_type": "code",
   "execution_count": 13,
   "id": "46110d85",
   "metadata": {},
   "outputs": [],
   "source": [
    "node_url = \"https://stylish-wider-patina.quiknode.pro/274049e810f4dee5f0807cd426196aeafd438838/\""
   ]
  },
  {
   "cell_type": "code",
   "execution_count": 14,
   "id": "7f611e48",
   "metadata": {},
   "outputs": [],
   "source": [
    "ws = web3.Web3(web3.Web3.HTTPProvider(node_url))"
   ]
  },
  {
   "cell_type": "code",
   "execution_count": 15,
   "id": "d91aa1b6",
   "metadata": {},
   "outputs": [],
   "source": [
    "contract_address = \"0xbEbc44782C7dB0a1A60Cb6fe97d0b483032FF1C7\"\n",
    "function_sig = \"coins(uint256)\""
   ]
  },
  {
   "cell_type": "code",
   "execution_count": 16,
   "id": "18db04a4",
   "metadata": {},
   "outputs": [],
   "source": [
    "def func_call_payload(id, contract_address, function_sig, block_number, values):\n",
    "    func_hex = utils.get_function_hex(function_sig)\n",
    "    param_types = utils.get_function_param_types(function_sig)\n",
    "    assert len(param_types) == len(values)\n",
    "    data = func_hex\n",
    "    \n",
    "    for t, v in zip(param_types,values):\n",
    "        if type(v) == str: # address\n",
    "            data += v[2:].zfill(64)\n",
    "        else:\n",
    "            data += hex(v)[2:].zfill(64)\n",
    "    \n",
    "    payload = {\n",
    "        \"id\":0,\n",
    "        \"jsonrpc\":\"2.0\",\n",
    "        \"method\":\"eth_call\",\n",
    "        \"params\": [\n",
    "            {\n",
    "                \"to\": contract_address,\n",
    "                \"data\": data\n",
    "            },\n",
    "            block_number\n",
    "        ]\n",
    "    }\n",
    "    return payload"
   ]
  },
  {
   "cell_type": "code",
   "execution_count": 28,
   "id": "8cdd3975",
   "metadata": {},
   "outputs": [
    {
     "data": {
      "text/plain": [
       "{'jsonrpc': '2.0',\n",
       " 'id': 0,\n",
       " 'result': '0x0000000000000000000000006b175474e89094c44da98b954eedeac495271d0f'}"
      ]
     },
     "execution_count": 28,
     "metadata": {},
     "output_type": "execute_result"
    }
   ],
   "source": [
    "payload = func_call_payload(0, contract_address, function_sig, hex(18000000), [0])\n",
    "resp = requests.post(node_url, json=payload)\n",
    "resp.json()"
   ]
  },
  {
   "cell_type": "code",
   "execution_count": 31,
   "id": "e819c3ee",
   "metadata": {},
   "outputs": [
    {
     "data": {
      "text/plain": [
       "100052"
      ]
     },
     "execution_count": 31,
     "metadata": {},
     "output_type": "execute_result"
    }
   ],
   "source": [
    "payload = func_call_payload(0, contract_address, \"get_dy(int128,int128,uint256)\", hex(18000000), [1,2,100000])\n",
    "resp = requests.post(node_url, json=payload)\n",
    "int(resp.json()['result'],16)"
   ]
  },
  {
   "cell_type": "code",
   "execution_count": null,
   "id": "332438e6",
   "metadata": {},
   "outputs": [],
   "source": [
    "# abi -> param types -> pad"
   ]
  }
 ],
 "metadata": {
  "kernelspec": {
   "display_name": "Python 3 (ipykernel)",
   "language": "python",
   "name": "python3"
  },
  "language_info": {
   "codemirror_mode": {
    "name": "ipython",
    "version": 3
   },
   "file_extension": ".py",
   "mimetype": "text/x-python",
   "name": "python",
   "nbconvert_exporter": "python",
   "pygments_lexer": "ipython3",
   "version": "3.9.13"
  }
 },
 "nbformat": 4,
 "nbformat_minor": 5
}
