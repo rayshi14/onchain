{
 "cells": [
  {
   "cell_type": "code",
   "execution_count": 1,
   "id": "a1766dec",
   "metadata": {},
   "outputs": [],
   "source": [
    "import requests\n",
    "import web3\n",
    "import pandas as pd\n",
    "\n",
    "import libs.common.utils as utils\n",
    "import libs.aave.api as aave_api\n",
    "import libs.common.payload as payload\n",
    "import libs.common.etherscan as es"
   ]
  },
  {
   "cell_type": "code",
   "execution_count": 2,
   "id": "46110d85",
   "metadata": {},
   "outputs": [],
   "source": [
    "node_url = \"https://stylish-wider-patina.quiknode.pro/274049e810f4dee5f0807cd426196aeafd438838/\""
   ]
  },
  {
   "cell_type": "code",
   "execution_count": 3,
   "id": "7f611e48",
   "metadata": {},
   "outputs": [],
   "source": [
    "ws = web3.Web3(web3.Web3.HTTPProvider(node_url))"
   ]
  },
  {
   "cell_type": "code",
   "execution_count": 4,
   "id": "cc1b8585",
   "metadata": {},
   "outputs": [],
   "source": [
    "contract_address = \"0xbEbc44782C7dB0a1A60Cb6fe97d0b483032FF1C7\"\n",
    "function_sig = \"coins(uint256)\""
   ]
  },
  {
   "cell_type": "code",
   "execution_count": 5,
   "id": "8cdd3975",
   "metadata": {},
   "outputs": [
    {
     "data": {
      "text/plain": [
       "{'jsonrpc': '2.0',\n",
       " 'id': 0,\n",
       " 'result': '0x0000000000000000000000006b175474e89094c44da98b954eedeac495271d0f'}"
      ]
     },
     "execution_count": 5,
     "metadata": {},
     "output_type": "execute_result"
    }
   ],
   "source": [
    "val = payload.func_call_payload(0, contract_address, function_sig, hex(18000000), [0])\n",
    "resp = requests.post(node_url, json=val)\n",
    "resp.json()"
   ]
  },
  {
   "cell_type": "code",
   "execution_count": 7,
   "id": "e8230108",
   "metadata": {},
   "outputs": [
    {
     "data": {
      "text/plain": [
       "100052"
      ]
     },
     "execution_count": 7,
     "metadata": {},
     "output_type": "execute_result"
    }
   ],
   "source": [
    "payload = payload.func_call_payload(0, contract_address, \"get_dy(int128,int128,uint256)\", hex(18000000), [1,2,100000])\n",
    "resp = requests.post(node_url, json=payload)\n",
    "int(resp.json()['result'],16)"
   ]
  },
  {
   "cell_type": "code",
   "execution_count": null,
   "id": "332438e6",
   "metadata": {},
   "outputs": [],
   "source": [
    "# abi -> param types -> pad"
   ]
  }
 ],
 "metadata": {
  "kernelspec": {
   "display_name": "Python 3 (ipykernel)",
   "language": "python",
   "name": "python3"
  },
  "language_info": {
   "codemirror_mode": {
    "name": "ipython",
    "version": 3
   },
   "file_extension": ".py",
   "mimetype": "text/x-python",
   "name": "python",
   "nbconvert_exporter": "python",
   "pygments_lexer": "ipython3",
   "version": "3.9.13"
  }
 },
 "nbformat": 4,
 "nbformat_minor": 5
}
