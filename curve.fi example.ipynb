{
 "cells": [
  {
   "cell_type": "code",
   "execution_count": 1,
   "id": "a1766dec",
   "metadata": {},
   "outputs": [],
   "source": [
    "import requests\n",
    "import web3\n",
    "import pandas as pd\n",
    "\n",
    "import libs.common.utils as utils\n",
    "import libs.aave.api as aave_api\n",
    "import libs.common.payload as payload\n",
    "import libs.common.etherscan as es"
   ]
  },
  {
   "cell_type": "code",
   "execution_count": 2,
   "id": "46110d85",
   "metadata": {},
   "outputs": [],
   "source": [
    "node_url = \"https://stylish-wider-patina.quiknode.pro/274049e810f4dee5f0807cd426196aeafd438838/\""
   ]
  },
  {
   "cell_type": "code",
   "execution_count": 3,
   "id": "7f611e48",
   "metadata": {},
   "outputs": [],
   "source": [
    "ws = web3.Web3(web3.Web3.HTTPProvider(node_url))"
   ]
  },
  {
   "cell_type": "code",
   "execution_count": 4,
   "id": "fd328cb5",
   "metadata": {},
   "outputs": [
    {
     "data": {
      "text/plain": [
       "'0xc6610657'"
      ]
     },
     "execution_count": 4,
     "metadata": {},
     "output_type": "execute_result"
    }
   ],
   "source": [
    "utils.get_function_hex(\"coins(uint256)\")"
   ]
  },
  {
   "cell_type": "code",
   "execution_count": 5,
   "id": "670e84e3",
   "metadata": {},
   "outputs": [
    {
     "data": {
      "text/plain": [
       "['uint256']"
      ]
     },
     "execution_count": 5,
     "metadata": {},
     "output_type": "execute_result"
    }
   ],
   "source": [
    "utils.get_function_param_types(\"coins(uint256)\")"
   ]
  },
  {
   "cell_type": "code",
   "execution_count": 21,
   "id": "18db04a4",
   "metadata": {},
   "outputs": [],
   "source": [
    "def func_call_payload(id, contract_address, block_number, types, values):\n",
    "    payload = {\n",
    "        \"id\":0,\n",
    "        \"jsonrpc\":\"2.0\",\n",
    "        \"method\":\"eth_call\",\n",
    "        \"params\": [\n",
    "            {\n",
    "                \"to\": \"0xbEbc44782C7dB0a1A60Cb6fe97d0b483032FF1C7\",\n",
    "                \"data\": \"0xc6610657\" + \"0\".zfill(64)\n",
    "            },\n",
    "            block_number\n",
    "        ]\n",
    "    }\n",
    "    return payload"
   ]
  },
  {
   "cell_type": "code",
   "execution_count": 30,
   "id": "8cdd3975",
   "metadata": {},
   "outputs": [
    {
     "data": {
      "text/plain": [
       "'0x0'"
      ]
     },
     "execution_count": 30,
     "metadata": {},
     "output_type": "execute_result"
    }
   ],
   "source": [
    "hex(0)"
   ]
  },
  {
   "cell_type": "code",
   "execution_count": 22,
   "id": "58fcf874",
   "metadata": {},
   "outputs": [],
   "source": [
    "val = payload\n",
    "resp = requests.post(node_url, json=val)"
   ]
  },
  {
   "cell_type": "code",
   "execution_count": 29,
   "id": "31ce732a",
   "metadata": {},
   "outputs": [
    {
     "data": {
      "text/plain": [
       "'0x0000000000000000000000006b175474e89094c44da98b954eedeac495271d0f'"
      ]
     },
     "execution_count": 29,
     "metadata": {},
     "output_type": "execute_result"
    }
   ],
   "source": [
    "resp.json()['result']"
   ]
  },
  {
   "cell_type": "code",
   "execution_count": null,
   "id": "332438e6",
   "metadata": {},
   "outputs": [],
   "source": [
    "# abi -> param types -> pad"
   ]
  }
 ],
 "metadata": {
  "kernelspec": {
   "display_name": "Python 3 (ipykernel)",
   "language": "python",
   "name": "python3"
  },
  "language_info": {
   "codemirror_mode": {
    "name": "ipython",
    "version": 3
   },
   "file_extension": ".py",
   "mimetype": "text/x-python",
   "name": "python",
   "nbconvert_exporter": "python",
   "pygments_lexer": "ipython3",
   "version": "3.9.13"
  }
 },
 "nbformat": 4,
 "nbformat_minor": 5
}
