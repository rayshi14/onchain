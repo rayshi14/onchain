{
 "cells": [
  {
   "cell_type": "code",
   "execution_count": 1,
   "id": "a1766dec",
   "metadata": {},
   "outputs": [],
   "source": [
    "import requests\n",
    "import web3\n",
    "import pandas as pd\n",
    "\n",
    "import libs.common.utils as utils\n",
    "import libs.aave.api as aave_api\n",
    "import libs.common.payload as payload\n",
    "import libs.common.etherscan as es\n",
    "import eth_abi\n",
    "import config.config as cfg"
   ]
  },
  {
   "cell_type": "code",
   "execution_count": 2,
   "id": "7f611e48",
   "metadata": {},
   "outputs": [],
   "source": [
    "ws = web3.Web3(web3.Web3.HTTPProvider(cfg.config[\"http_url\"]))"
   ]
  },
  {
   "cell_type": "code",
   "execution_count": 3,
   "id": "dbd46a41",
   "metadata": {},
   "outputs": [],
   "source": [
    "contract_address = \"0x7d2768dE32b0b80b7a3454c06BdAc94A69DDc7A9\""
   ]
  },
  {
   "cell_type": "code",
   "execution_count": 4,
   "id": "8d8bb4d7",
   "metadata": {},
   "outputs": [],
   "source": [
    "proxy_addr = \"0x7d2768dE32b0b80b7a3454c06BdAc94A69DDc7A9\"\n",
    "impl_addr = \"0x085E34722e04567Df9E6d2c32e82fd74f3342e79\"\n",
    "pool_contract = es.get_contract(proxy_addr,impl_addr)"
   ]
  },
  {
   "cell_type": "code",
   "execution_count": 5,
   "id": "480d5a9c",
   "metadata": {},
   "outputs": [],
   "source": [
    "res = pool_contract.functions.getReservesList().call(block_identifier=18000000)"
   ]
  },
  {
   "cell_type": "code",
   "execution_count": 6,
   "id": "0b376307",
   "metadata": {},
   "outputs": [
    {
     "data": {
      "text/plain": [
       "[40975917587262136813643,\n",
       " 33644389432055738516308,\n",
       " 160742577435524354947,\n",
       " 8600,\n",
       " 8250,\n",
       " 1047404625850338923]"
      ]
     },
     "execution_count": 6,
     "metadata": {},
     "output_type": "execute_result"
    }
   ],
   "source": [
    "pool_contract.functions.getUserAccountData(\"0x1111567E0954E74f6bA7c4732D534e75B81DC42E\").call()"
   ]
  },
  {
   "cell_type": "code",
   "execution_count": 13,
   "id": "4f7dd6dd",
   "metadata": {},
   "outputs": [],
   "source": [
    "def parse_function_abi(contract_abi):\n",
    "    function_abi = {}\n",
    "    for member in contract_abi:\n",
    "        if member[\"type\"] == \"function\":\n",
    "            inputs = {(inp[\"name\"] if inp[\"name\"] != \"\" else \"value\"):inp[\"type\"] for inp in member[\"inputs\"]}\n",
    "            outputs = {(out[\"name\"] if out[\"name\"] != \"\" else \"value\"):out[\"type\"] for out in member[\"outputs\"]}\n",
    "            function_abi[member[\"name\"]] = {\"inputs\":inputs,\"outputs\":outputs}\n",
    "    return function_abi"
   ]
  },
  {
   "cell_type": "code",
   "execution_count": 15,
   "id": "04ba6b15",
   "metadata": {},
   "outputs": [],
   "source": [
    "function_abi = parse_function_abi(pool_contract.functions.abi)"
   ]
  },
  {
   "cell_type": "code",
   "execution_count": 23,
   "id": "c12d0cd8",
   "metadata": {},
   "outputs": [],
   "source": [
    "def function_call(function_name, params, block_number):\n",
    "    inputs = function_abi[function_name][\"inputs\"]\n",
    "    outputs = function_abi[function_name][\"outputs\"]\n",
    "\n",
    "    val = payload.func_call_payload(0, contract_address, function_name, inputs, params, block_number)\n",
    "    resp = requests.post(cfg.config[\"http_url\"], json=val)\n",
    "    \n",
    "    values = eth_abi.decode(outputs.values(), bytes.fromhex(resp.json()[\"result\"][2:]))\n",
    "    keys = list(outputs.keys())\n",
    "    result = {keys[i]: values[i] for i in range(len(keys))}\n",
    "    return result"
   ]
  },
  {
   "cell_type": "code",
   "execution_count": 25,
   "id": "b030df1e",
   "metadata": {
    "scrolled": true
   },
   "outputs": [
    {
     "data": {
      "text/plain": [
       "{'totalCollateralETH': 40975140846076479787939,\n",
       " 'totalDebtETH': 33480094817366720358262,\n",
       " 'availableBorrowsETH': 324396380646375466788,\n",
       " 'currentLiquidationThreshold': 8600,\n",
       " 'ltv': 8250,\n",
       " 'healthFactor': 1052524531960013249}"
      ]
     },
     "execution_count": 25,
     "metadata": {},
     "output_type": "execute_result"
    }
   ],
   "source": [
    "function_name = \"getUserAccountData\"\n",
    "params = {\n",
    "    \"user\":\"0x1111567E0954E74f6bA7c4732D534e75B81DC42E\"\n",
    "}\n",
    "block_number = hex(18670000)\n",
    "function_call(function_name, params, block_number)"
   ]
  },
  {
   "cell_type": "code",
   "execution_count": 26,
   "id": "224bfe39",
   "metadata": {},
   "outputs": [
    {
     "data": {
      "text/plain": [
       "{'value': ('0xdac17f958d2ee523a2206206994597c13d831ec7',\n",
       "  '0x2260fac5e5542a773aa44fbcfedf7c193bc2c599',\n",
       "  '0xc02aaa39b223fe8d0a0e5c4f27ead9083c756cc2',\n",
       "  '0x0bc529c00c6401aef6d220be8c6ea1667f6ad93e',\n",
       "  '0xe41d2489571d322189246dafa5ebde1f4699f498',\n",
       "  '0x1f9840a85d5af5bf1d1762f925bdaddc4201f984',\n",
       "  '0x7fc66500c84a76ad7e9c93437bfc5ac33e2ddae9',\n",
       "  '0x0d8775f648430679a709e98d2b0cb6250d2887ef',\n",
       "  '0x4fabb145d64652a948d72533023f6e7a623c7c53',\n",
       "  '0x6b175474e89094c44da98b954eedeac495271d0f',\n",
       "  '0xf629cbd94d3791c9250152bd8dfbdf380e2a3b9c',\n",
       "  '0xdd974d5c2e2928dea5f71b9825b8b646686bd200',\n",
       "  '0x514910771af9ca656af840dff83e8264ecf986ca',\n",
       "  '0x0f5d2fb29fb7d3cfee444a200298f468908cc942',\n",
       "  '0x9f8f72aa9304c8b593d555f12ef6589cc3a579a2',\n",
       "  '0x408e41876cccdc0f92210600ef50372656052a38',\n",
       "  '0xc011a73ee8576fb46f5e1c5751ca3b9fe0af2a6f',\n",
       "  '0x57ab1ec28d129707052df4df418d58a2d46d5f51',\n",
       "  '0x0000000000085d4780b73119b644ae5ecd22b376',\n",
       "  '0xa0b86991c6218b36c1d19d4a2e9eb0ce3606eb48',\n",
       "  '0xd533a949740bb3306d119cc777fa900ba034cd52',\n",
       "  '0x056fd409e1d7a124bd7017459dfea2f387b6d5cd',\n",
       "  '0xba100000625a3754423978a60c9317c58a424e3d',\n",
       "  '0x8798249c2e607446efb7ad49ec89dd1865ff4272',\n",
       "  '0xd5147bc8e386d91cc5dbe72099dac6c9b99276f5',\n",
       "  '0x03ab458634910aad20ef5f1c8ee96f1d6ac54919',\n",
       "  '0xd46ba6d942050d489dbd938a2c909a5d5039a161',\n",
       "  '0x8e870d67f660d95d5be530380d0ec0bd388289e1',\n",
       "  '0x1494ca1f11d487c2bbe4543e90080aeba4ba3c2b',\n",
       "  '0x853d955acef822db058eb8505911ed77f175b99e',\n",
       "  '0x956f47f50a910163d8bf957cf5846d573e7f87ca',\n",
       "  '0xae7ab96520de3a18e5e111b5eaab095312d7fe84',\n",
       "  '0xc18360217d8f7ab5e7c516566761ea12ce7f9d72',\n",
       "  '0xa693b19d2931d498c5b318df961919bb4aee87a5',\n",
       "  '0x4e3fbd56cd56c3e72c1403e103b45db9da5b9d2b',\n",
       "  '0x111111111117dc0aa78b770fa6a738034120c302',\n",
       "  '0x5f98805a4e8be255a32880fdec7f6728c6568ba0')}"
      ]
     },
     "execution_count": 26,
     "metadata": {},
     "output_type": "execute_result"
    }
   ],
   "source": [
    "function_name = \"getReservesList\"\n",
    "params = {}\n",
    "block_number = hex(18670000)\n",
    "function_call(function_name, params, block_number)"
   ]
  }
 ],
 "metadata": {
  "kernelspec": {
   "display_name": "Python 3 (ipykernel)",
   "language": "python",
   "name": "python3"
  },
  "language_info": {
   "codemirror_mode": {
    "name": "ipython",
    "version": 3
   },
   "file_extension": ".py",
   "mimetype": "text/x-python",
   "name": "python",
   "nbconvert_exporter": "python",
   "pygments_lexer": "ipython3",
   "version": "3.9.13"
  }
 },
 "nbformat": 4,
 "nbformat_minor": 5
}
